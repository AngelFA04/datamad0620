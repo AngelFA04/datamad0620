{
 "cells": [
  {
   "cell_type": "code",
   "execution_count": 17,
   "metadata": {},
   "outputs": [
    {
     "name": "stdout",
     "output_type": "stream",
     "text": [
      "CPU times: user 5.23 ms, sys: 4.32 ms, total: 9.55 ms\n",
      "Wall time: 19.3 ms\n"
     ]
    }
   ],
   "source": [
    "%%time\n",
    "list(range(100000))\n",
    ";"
   ]
  },
  {
   "cell_type": "markdown",
   "metadata": {},
   "source": [
    "# The `callback` pattern"
   ]
  },
  {
   "cell_type": "code",
   "execution_count": 36,
   "metadata": {},
   "outputs": [
    {
     "data": {
      "text/plain": [
       "11"
      ]
     },
     "execution_count": 36,
     "metadata": {},
     "output_type": "execute_result"
    }
   ],
   "source": [
    "def suma(a,fn):\n",
    "    return a + fn() + fn()\n",
    "    \n",
    "def generaTres():\n",
    "    return 3\n",
    "    \n",
    "suma(5,generaTres)"
   ]
  },
  {
   "cell_type": "code",
   "execution_count": 37,
   "metadata": {},
   "outputs": [],
   "source": [
    "def saluda(nombre):\n",
    "    return f\"👋🏻 {nombre}\"\n",
    "\n",
    "def saluda2(nombre):\n",
    "    return f\"😎 {nombre}\"\n",
    "\n",
    "\n",
    "def saludaTodos(nombres, fn):\n",
    "    for n in nombres:\n",
    "        print(fn(n))\n",
    "\n",
    "        "
   ]
  },
  {
   "cell_type": "code",
   "execution_count": 39,
   "metadata": {},
   "outputs": [
    {
     "name": "stdout",
     "output_type": "stream",
     "text": [
      "😎 Pepe\n",
      "😎 Luis\n",
      "😎 Juan\n"
     ]
    }
   ],
   "source": [
    "nombres = [\"Pepe\",\"Luis\",\"Juan\"]\n",
    "saludaTodos(nombres, saluda2)"
   ]
  },
  {
   "cell_type": "markdown",
   "metadata": {},
   "source": [
    "# Reference vs value"
   ]
  },
  {
   "cell_type": "code",
   "execution_count": 48,
   "metadata": {},
   "outputs": [],
   "source": [
    "a = [\"Pepe\",\"Luis\",\"Juan\"]\n",
    "b = a\n",
    "b.append(\"Felipe\")"
   ]
  },
  {
   "cell_type": "code",
   "execution_count": 49,
   "metadata": {},
   "outputs": [
    {
     "name": "stdout",
     "output_type": "stream",
     "text": [
      "['Pepe', 'Luis', 'Juan', 'Felipe'] ['Pepe', 'Luis', 'Juan', 'Felipe']\n"
     ]
    }
   ],
   "source": [
    "print(a,b)"
   ]
  },
  {
   "cell_type": "code",
   "execution_count": 50,
   "metadata": {},
   "outputs": [
    {
     "name": "stdout",
     "output_type": "stream",
     "text": [
      "4598283152 4598283152\n",
      "True\n"
     ]
    }
   ],
   "source": [
    "print(id(a),id(b))\n",
    "print(id(a)==id(b))"
   ]
  },
  {
   "cell_type": "code",
   "execution_count": 51,
   "metadata": {},
   "outputs": [],
   "source": [
    "a = 5\n",
    "b = a\n",
    "b += 1"
   ]
  },
  {
   "cell_type": "code",
   "execution_count": 52,
   "metadata": {},
   "outputs": [
    {
     "name": "stdout",
     "output_type": "stream",
     "text": [
      "5 6\n"
     ]
    }
   ],
   "source": [
    "print(a,b)"
   ]
  },
  {
   "cell_type": "code",
   "execution_count": 54,
   "metadata": {},
   "outputs": [
    {
     "name": "stdout",
     "output_type": "stream",
     "text": [
      "4561489808 4561489840\n",
      "False\n"
     ]
    }
   ],
   "source": [
    "print(id(a),id(b))\n",
    "print(id(a)==id(b))"
   ]
  },
  {
   "cell_type": "code",
   "execution_count": 61,
   "metadata": {},
   "outputs": [
    {
     "name": "stdout",
     "output_type": "stream",
     "text": [
      "['Pepe', 'Luis', 'Juan'] ['Pepe', 'Luis', 'Juan', 'Felipe']\n",
      "4609213456 4609190240\n",
      "False\n"
     ]
    }
   ],
   "source": [
    "a = [\"Pepe\",\"Luis\",\"Juan\"]\n",
    "b = []\n",
    "for e in a:\n",
    "    b.append(e)\n",
    "b.append(\"Felipe\")\n",
    "\n",
    "print(a,b)\n",
    "print(id(a),id(b))\n",
    "print(id(a)==id(b))"
   ]
  },
  {
   "cell_type": "code",
   "execution_count": 66,
   "metadata": {},
   "outputs": [
    {
     "name": "stdout",
     "output_type": "stream",
     "text": [
      "['Pepe', 'Luis', 'Juan'] ['Pepe', 'Luis', 'Juan', 'Felipe']\n",
      "4609070656 4609270400\n",
      "False\n"
     ]
    }
   ],
   "source": [
    "a = [\"Pepe\",\"Luis\",\"Juan\"]\n",
    "b = [*a]\n",
    "b.append(\"Felipe\")\n",
    "\n",
    "print(a,b)\n",
    "print(id(a),id(b))\n",
    "print(id(a)==id(b))"
   ]
  },
  {
   "cell_type": "code",
   "execution_count": null,
   "metadata": {},
   "outputs": [],
   "source": []
  }
 ],
 "metadata": {
  "kernelspec": {
   "display_name": "Python 3",
   "language": "python",
   "name": "python3"
  },
  "language_info": {
   "codemirror_mode": {
    "name": "ipython",
    "version": 3
   },
   "file_extension": ".py",
   "mimetype": "text/x-python",
   "name": "python",
   "nbconvert_exporter": "python",
   "pygments_lexer": "ipython3",
   "version": "3.7.5"
  }
 },
 "nbformat": 4,
 "nbformat_minor": 2
}
