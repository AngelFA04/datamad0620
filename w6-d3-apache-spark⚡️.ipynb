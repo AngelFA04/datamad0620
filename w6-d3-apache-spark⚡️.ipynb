{
 "cells": [
  {
   "cell_type": "code",
   "execution_count": 1,
   "metadata": {},
   "outputs": [],
   "source": [
    "# After running this cell, check http://localhost:4040 (spark dashboard)\n",
    "# and you will see apache spark running.\n",
    "from pyspark import SparkContext \n",
    "sc = SparkContext.getOrCreate()"
   ]
  },
  {
   "cell_type": "code",
   "execution_count": 2,
   "metadata": {},
   "outputs": [
    {
     "name": "stdout",
     "output_type": "stream",
     "text": [
      "3.142352\n"
     ]
    }
   ],
   "source": [
    "# https://academo.org/demos/estimating-pi-monte-carlo/\n",
    "import random\n",
    "num_samples = 1000000\n",
    "\n",
    "# This function will be parallelized using spark\n",
    "def inside(p):     \n",
    "    x, y = random.random(), random.random()\n",
    "    return x*x + y*y < 1\n",
    "\n",
    "\n",
    "count = sc.parallelize(range(0, num_samples)).filter(inside).count()\n",
    "pi = 4 * count / num_samples\n",
    "print(pi)"
   ]
  },
  {
   "cell_type": "code",
   "execution_count": 3,
   "metadata": {},
   "outputs": [
    {
     "name": "stdout",
     "output_type": "stream",
     "text": [
      "<class 'pyspark.sql.dataframe.DataFrame'>\n",
      "root\n",
      " |-- Date: string (nullable = true)\n",
      " |-- Time: string (nullable = true)\n",
      " |-- Transaction: string (nullable = true)\n",
      " |-- Item: string (nullable = true)\n",
      "\n",
      "None\n",
      "+-------+----------+--------+------------------+----------------+\n",
      "|summary|      Date|    Time|       Transaction|            Item|\n",
      "+-------+----------+--------+------------------+----------------+\n",
      "|  count|     21293|   21293|             21293|           21293|\n",
      "|   mean|      null|    null| 4951.990889024562|            null|\n",
      "| stddev|      null|    null|2787.7583996983885|            null|\n",
      "|    min|2016-10-30|01:21:05|                 1|      Adjustment|\n",
      "|    max|2017-04-09|23:38:41|               999|Victorian Sponge|\n",
      "+-------+----------+--------+------------------+----------------+\n",
      "\n",
      "None\n",
      "+----------+--------+-----------+-------------+\n",
      "|      Date|    Time|Transaction|         Item|\n",
      "+----------+--------+-----------+-------------+\n",
      "|2016-10-30|09:58:11|          1|        Bread|\n",
      "|2016-10-30|10:05:34|          2| Scandinavian|\n",
      "|2016-10-30|10:05:34|          2| Scandinavian|\n",
      "|2016-10-30|10:07:57|          3|Hot chocolate|\n",
      "|2016-10-30|10:07:57|          3|          Jam|\n",
      "|2016-10-30|10:07:57|          3|      Cookies|\n",
      "|2016-10-30|10:08:41|          4|       Muffin|\n",
      "|2016-10-30|10:13:03|          5|       Coffee|\n",
      "|2016-10-30|10:13:03|          5|       Pastry|\n",
      "|2016-10-30|10:13:03|          5|        Bread|\n",
      "|2016-10-30|10:16:55|          6|    Medialuna|\n",
      "|2016-10-30|10:16:55|          6|       Pastry|\n",
      "|2016-10-30|10:16:55|          6|       Muffin|\n",
      "|2016-10-30|10:19:12|          7|    Medialuna|\n",
      "|2016-10-30|10:19:12|          7|       Pastry|\n",
      "|2016-10-30|10:19:12|          7|       Coffee|\n",
      "|2016-10-30|10:19:12|          7|          Tea|\n",
      "|2016-10-30|10:20:51|          8|       Pastry|\n",
      "|2016-10-30|10:20:51|          8|        Bread|\n",
      "|2016-10-30|10:21:59|          9|        Bread|\n",
      "+----------+--------+-----------+-------------+\n",
      "only showing top 20 rows\n",
      "\n"
     ]
    }
   ],
   "source": [
    "csvreader = spark.read.format(\"csv\").option(\"header\", \"true\")\n",
    "df = csvreader.load(\"data/breadbasket_dms.csv\")\n",
    "\n",
    "df.registerTempTable(\"breadbasket\")\n",
    "\n",
    "print(type(df))\n",
    "print(df.printSchema())\n",
    "print(df.describe().show())\n",
    "df.show()"
   ]
  },
  {
   "cell_type": "code",
   "execution_count": 14,
   "metadata": {},
   "outputs": [
    {
     "name": "stdout",
     "output_type": "stream",
     "text": [
      "+----------+--------+-----------+-------------+\n",
      "|      Date|    Time|Transaction|         Item|\n",
      "+----------+--------+-----------+-------------+\n",
      "|2016-10-30|09:58:11|          1|        Bread|\n",
      "|2016-10-30|10:05:34|          2| Scandinavian|\n",
      "|2016-10-30|10:05:34|          2| Scandinavian|\n",
      "|2016-10-30|10:07:57|          3|Hot chocolate|\n",
      "|2016-10-30|10:07:57|          3|          Jam|\n",
      "|2016-10-30|10:07:57|          3|      Cookies|\n",
      "|2016-10-30|10:08:41|          4|       Muffin|\n",
      "|2016-10-30|10:13:03|          5|       Coffee|\n",
      "|2016-10-30|10:13:03|          5|       Pastry|\n",
      "|2016-10-30|10:13:03|          5|        Bread|\n",
      "|2016-10-30|10:16:55|          6|    Medialuna|\n",
      "|2016-10-30|10:16:55|          6|       Pastry|\n",
      "|2016-10-30|10:16:55|          6|       Muffin|\n",
      "|2016-10-30|10:19:12|          7|    Medialuna|\n",
      "|2016-10-30|10:19:12|          7|       Pastry|\n",
      "|2016-10-30|10:19:12|          7|       Coffee|\n",
      "|2016-10-30|10:19:12|          7|          Tea|\n",
      "|2016-10-30|10:20:51|          8|       Pastry|\n",
      "|2016-10-30|10:20:51|          8|        Bread|\n",
      "|2016-10-30|10:21:59|          9|        Bread|\n",
      "+----------+--------+-----------+-------------+\n",
      "only showing top 20 rows\n",
      "\n"
     ]
    }
   ],
   "source": [
    "df.show(20)"
   ]
  },
  {
   "cell_type": "code",
   "execution_count": 6,
   "metadata": {},
   "outputs": [
    {
     "name": "stdout",
     "output_type": "stream",
     "text": [
      "+--------+-----------+-----------+\n",
      "|database|  tableName|isTemporary|\n",
      "+--------+-----------+-----------+\n",
      "|        |breadbasket|       true|\n",
      "+--------+-----------+-----------+\n",
      "\n"
     ]
    }
   ],
   "source": [
    "spark.sql(\"SHOW tables\").show()"
   ]
  },
  {
   "cell_type": "code",
   "execution_count": 26,
   "metadata": {},
   "outputs": [
    {
     "name": "stdout",
     "output_type": "stream",
     "text": [
      "+---------+---------+-------------------+--------------------+------------------+\n",
      "|ticket_id|num_items|        ticket_date|        ticket_items|ticket_uniqueitems|\n",
      "+---------+---------+-------------------+--------------------+------------------+\n",
      "|        1|        1|2016-10-30 09:58:11|             [Bread]|                 1|\n",
      "|        2|        2|2016-10-30 10:05:34|[Scandinavian, Sc...|                 1|\n",
      "|        3|        3|2016-10-30 10:07:57|[Hot chocolate, J...|                 3|\n",
      "|        4|        1|2016-10-30 10:08:41|            [Muffin]|                 1|\n",
      "|        5|        3|2016-10-30 10:13:03|[Coffee, Pastry, ...|                 3|\n",
      "|        6|        3|2016-10-30 10:16:55|[Medialuna, Pastr...|                 3|\n",
      "|        7|        4|2016-10-30 10:19:12|[Medialuna, Pastr...|                 4|\n",
      "|        8|        2|2016-10-30 10:20:51|     [Pastry, Bread]|                 2|\n",
      "|        9|        2|2016-10-30 10:21:59|     [Bread, Muffin]|                 2|\n",
      "|       10|        2|2016-10-30 10:25:58|[Scandinavian, Me...|                 2|\n",
      "|       11|        4|2016-10-30 10:27:21|[Bread, Medialuna...|                 3|\n",
      "|       12|        5|2016-10-30 10:30:14|[Jam, Coffee, Tar...|                 5|\n",
      "|       13|        3|2016-10-30 10:31:24|[Basket, Bread, C...|                 3|\n",
      "|       14|        3|2016-10-30 10:32:46|[Bread, Medialuna...|                 3|\n",
      "|       15|        4|2016-10-30 10:34:36|[NONE, NONE, Mine...|                 3|\n",
      "|       16|        3|2016-10-30 10:37:08|[Bread, Medialuna...|                 3|\n",
      "|       17|        1|2016-10-30 10:38:04|     [Hot chocolate]|                 1|\n",
      "|       18|        1|2016-10-30 10:41:56|        [Farm House]|                 1|\n",
      "|       19|        2|2016-10-30 10:43:08| [Farm House, Bread]|                 2|\n",
      "|       20|        2|2016-10-30 10:45:22|  [Bread, Medialuna]|                 2|\n",
      "+---------+---------+-------------------+--------------------+------------------+\n",
      "only showing top 20 rows\n",
      "\n"
     ]
    }
   ],
   "source": [
    "m = spark.sql(\"\"\"\n",
    "SELECT \n",
    "        int(Transaction) as ticket_id,\n",
    "        count(*) as num_items,\n",
    "        CONCAT(max(Date),' ',max(Time)) as ticket_date,\n",
    "        collect_list(Item) as ticket_items,\n",
    "        approx_count_distinct(Item) as ticket_uniqueitems\n",
    "    FROM breadbasket \n",
    "    GROUP BY ticket_id \n",
    "    ORDER BY ticket_id\n",
    "\"\"\")\n",
    "\n",
    "\n",
    "m.show()"
   ]
  },
  {
   "cell_type": "code",
   "execution_count": 25,
   "metadata": {},
   "outputs": [
    {
     "name": "stdout",
     "output_type": "stream",
     "text": [
      "+-----------+--------------------+---------------------------+\n",
      "|Transaction|  collect_list(Item)|approx_count_distinct(Item)|\n",
      "+-----------+--------------------+---------------------------+\n",
      "|       1090|[Brownie, Coffee,...|                          4|\n",
      "|       1159|             [Bread]|                          1|\n",
      "|       1436|      [Coffee, Soup]|                          2|\n",
      "|       1512|[Hearty & Seasona...|                          3|\n",
      "|       1572|    [Pastry, Coffee]|                          2|\n",
      "|       2069|             [Bread]|                          1|\n",
      "|       2088|      [Scandinavian]|                          1|\n",
      "|       2136|[Hot chocolate, Tea]|                          2|\n",
      "|       2162|[Coffee, Tea, Jui...|                          7|\n",
      "|       2294|         [Tea, NONE]|                          2|\n",
      "|       2904|[NONE, Sandwich, ...|                          4|\n",
      "|        296|[Farm House, Scan...|                          2|\n",
      "|       3210|      [Bread, Bread]|                          1|\n",
      "|       3414|            [Coffee]|                          1|\n",
      "|       3606|             [Bread]|                          1|\n",
      "|       3959|      [Scandinavian]|                          1|\n",
      "|       4032|               [Tea]|                          1|\n",
      "|        467|             [Bread]|                          1|\n",
      "|       4821|   [Sandwich, Bread]|                          2|\n",
      "|       4937|[Sandwich, Sandwi...|                          3|\n",
      "+-----------+--------------------+---------------------------+\n",
      "only showing top 20 rows\n",
      "\n"
     ]
    }
   ],
   "source": [
    "from pyspark.sql.functions import collect_list, approx_count_distinct\n",
    "\n",
    "q = df.groupby(df.Transaction).agg(collect_list(\"Item\"), approx_count_distinct(\"Item\"))\n",
    "q.show()"
   ]
  },
  {
   "cell_type": "code",
   "execution_count": 28,
   "metadata": {},
   "outputs": [
    {
     "name": "stdout",
     "output_type": "stream",
     "text": [
      "+---------+---------+-------------------+--------------------+------------------+-------------+\n",
      "|ticket_id|num_items|        ticket_date|        ticket_items|ticket_uniqueitems|         item|\n",
      "+---------+---------+-------------------+--------------------+------------------+-------------+\n",
      "|        1|        1|2016-10-30 09:58:11|             [Bread]|                 1|        Bread|\n",
      "|        2|        2|2016-10-30 10:05:34|[Scandinavian, Sc...|                 1| Scandinavian|\n",
      "|        2|        2|2016-10-30 10:05:34|[Scandinavian, Sc...|                 1| Scandinavian|\n",
      "|        3|        3|2016-10-30 10:07:57|[Hot chocolate, J...|                 3|Hot chocolate|\n",
      "|        3|        3|2016-10-30 10:07:57|[Hot chocolate, J...|                 3|          Jam|\n",
      "|        3|        3|2016-10-30 10:07:57|[Hot chocolate, J...|                 3|      Cookies|\n",
      "|        4|        1|2016-10-30 10:08:41|            [Muffin]|                 1|       Muffin|\n",
      "|        5|        3|2016-10-30 10:13:03|[Coffee, Pastry, ...|                 3|       Coffee|\n",
      "|        5|        3|2016-10-30 10:13:03|[Coffee, Pastry, ...|                 3|       Pastry|\n",
      "|        5|        3|2016-10-30 10:13:03|[Coffee, Pastry, ...|                 3|        Bread|\n",
      "|        6|        3|2016-10-30 10:16:55|[Medialuna, Pastr...|                 3|    Medialuna|\n",
      "|        6|        3|2016-10-30 10:16:55|[Medialuna, Pastr...|                 3|       Pastry|\n",
      "|        6|        3|2016-10-30 10:16:55|[Medialuna, Pastr...|                 3|       Muffin|\n",
      "|        7|        4|2016-10-30 10:19:12|[Medialuna, Pastr...|                 4|    Medialuna|\n",
      "|        7|        4|2016-10-30 10:19:12|[Medialuna, Pastr...|                 4|       Pastry|\n",
      "|        7|        4|2016-10-30 10:19:12|[Medialuna, Pastr...|                 4|       Coffee|\n",
      "|        7|        4|2016-10-30 10:19:12|[Medialuna, Pastr...|                 4|          Tea|\n",
      "|        8|        2|2016-10-30 10:20:51|     [Pastry, Bread]|                 2|       Pastry|\n",
      "|        8|        2|2016-10-30 10:20:51|     [Pastry, Bread]|                 2|        Bread|\n",
      "|        9|        2|2016-10-30 10:21:59|     [Bread, Muffin]|                 2|        Bread|\n",
      "+---------+---------+-------------------+--------------------+------------------+-------------+\n",
      "only showing top 20 rows\n",
      "\n"
     ]
    }
   ],
   "source": [
    "from pyspark.sql.functions import explode\n",
    "\n",
    "z = m.withColumn(\"item\",explode(m.ticket_items))\n",
    "z.show()"
   ]
  },
  {
   "cell_type": "code",
   "execution_count": 29,
   "metadata": {},
   "outputs": [
    {
     "data": {
      "text/html": [
       "<div>\n",
       "<style scoped>\n",
       "    .dataframe tbody tr th:only-of-type {\n",
       "        vertical-align: middle;\n",
       "    }\n",
       "\n",
       "    .dataframe tbody tr th {\n",
       "        vertical-align: top;\n",
       "    }\n",
       "\n",
       "    .dataframe thead th {\n",
       "        text-align: right;\n",
       "    }\n",
       "</style>\n",
       "<table border=\"1\" class=\"dataframe\">\n",
       "  <thead>\n",
       "    <tr style=\"text-align: right;\">\n",
       "      <th></th>\n",
       "      <th>ticket_id</th>\n",
       "      <th>num_items</th>\n",
       "      <th>ticket_date</th>\n",
       "      <th>ticket_items</th>\n",
       "      <th>ticket_uniqueitems</th>\n",
       "      <th>item</th>\n",
       "    </tr>\n",
       "  </thead>\n",
       "  <tbody>\n",
       "    <tr>\n",
       "      <th>0</th>\n",
       "      <td>1</td>\n",
       "      <td>1</td>\n",
       "      <td>2016-10-30 09:58:11</td>\n",
       "      <td>[Bread]</td>\n",
       "      <td>1</td>\n",
       "      <td>Bread</td>\n",
       "    </tr>\n",
       "    <tr>\n",
       "      <th>1</th>\n",
       "      <td>2</td>\n",
       "      <td>2</td>\n",
       "      <td>2016-10-30 10:05:34</td>\n",
       "      <td>[Scandinavian, Scandinavian]</td>\n",
       "      <td>1</td>\n",
       "      <td>Scandinavian</td>\n",
       "    </tr>\n",
       "    <tr>\n",
       "      <th>2</th>\n",
       "      <td>2</td>\n",
       "      <td>2</td>\n",
       "      <td>2016-10-30 10:05:34</td>\n",
       "      <td>[Scandinavian, Scandinavian]</td>\n",
       "      <td>1</td>\n",
       "      <td>Scandinavian</td>\n",
       "    </tr>\n",
       "    <tr>\n",
       "      <th>3</th>\n",
       "      <td>3</td>\n",
       "      <td>3</td>\n",
       "      <td>2016-10-30 10:07:57</td>\n",
       "      <td>[Hot chocolate, Jam, Cookies]</td>\n",
       "      <td>3</td>\n",
       "      <td>Hot chocolate</td>\n",
       "    </tr>\n",
       "    <tr>\n",
       "      <th>4</th>\n",
       "      <td>3</td>\n",
       "      <td>3</td>\n",
       "      <td>2016-10-30 10:07:57</td>\n",
       "      <td>[Hot chocolate, Jam, Cookies]</td>\n",
       "      <td>3</td>\n",
       "      <td>Jam</td>\n",
       "    </tr>\n",
       "    <tr>\n",
       "      <th>...</th>\n",
       "      <td>...</td>\n",
       "      <td>...</td>\n",
       "      <td>...</td>\n",
       "      <td>...</td>\n",
       "      <td>...</td>\n",
       "      <td>...</td>\n",
       "    </tr>\n",
       "    <tr>\n",
       "      <th>21288</th>\n",
       "      <td>9682</td>\n",
       "      <td>4</td>\n",
       "      <td>2017-04-09 14:32:58</td>\n",
       "      <td>[Muffin, Tacos/Fajita, Coffee, Tea]</td>\n",
       "      <td>4</td>\n",
       "      <td>Coffee</td>\n",
       "    </tr>\n",
       "    <tr>\n",
       "      <th>21289</th>\n",
       "      <td>9682</td>\n",
       "      <td>4</td>\n",
       "      <td>2017-04-09 14:32:58</td>\n",
       "      <td>[Muffin, Tacos/Fajita, Coffee, Tea]</td>\n",
       "      <td>4</td>\n",
       "      <td>Tea</td>\n",
       "    </tr>\n",
       "    <tr>\n",
       "      <th>21290</th>\n",
       "      <td>9683</td>\n",
       "      <td>2</td>\n",
       "      <td>2017-04-09 14:57:06</td>\n",
       "      <td>[Coffee, Pastry]</td>\n",
       "      <td>2</td>\n",
       "      <td>Coffee</td>\n",
       "    </tr>\n",
       "    <tr>\n",
       "      <th>21291</th>\n",
       "      <td>9683</td>\n",
       "      <td>2</td>\n",
       "      <td>2017-04-09 14:57:06</td>\n",
       "      <td>[Coffee, Pastry]</td>\n",
       "      <td>2</td>\n",
       "      <td>Pastry</td>\n",
       "    </tr>\n",
       "    <tr>\n",
       "      <th>21292</th>\n",
       "      <td>9684</td>\n",
       "      <td>1</td>\n",
       "      <td>2017-04-09 15:04:24</td>\n",
       "      <td>[Smoothies]</td>\n",
       "      <td>1</td>\n",
       "      <td>Smoothies</td>\n",
       "    </tr>\n",
       "  </tbody>\n",
       "</table>\n",
       "<p>21293 rows × 6 columns</p>\n",
       "</div>"
      ],
      "text/plain": [
       "       ticket_id  num_items          ticket_date  \\\n",
       "0              1          1  2016-10-30 09:58:11   \n",
       "1              2          2  2016-10-30 10:05:34   \n",
       "2              2          2  2016-10-30 10:05:34   \n",
       "3              3          3  2016-10-30 10:07:57   \n",
       "4              3          3  2016-10-30 10:07:57   \n",
       "...          ...        ...                  ...   \n",
       "21288       9682          4  2017-04-09 14:32:58   \n",
       "21289       9682          4  2017-04-09 14:32:58   \n",
       "21290       9683          2  2017-04-09 14:57:06   \n",
       "21291       9683          2  2017-04-09 14:57:06   \n",
       "21292       9684          1  2017-04-09 15:04:24   \n",
       "\n",
       "                              ticket_items  ticket_uniqueitems           item  \n",
       "0                                  [Bread]                   1          Bread  \n",
       "1             [Scandinavian, Scandinavian]                   1   Scandinavian  \n",
       "2             [Scandinavian, Scandinavian]                   1   Scandinavian  \n",
       "3            [Hot chocolate, Jam, Cookies]                   3  Hot chocolate  \n",
       "4            [Hot chocolate, Jam, Cookies]                   3            Jam  \n",
       "...                                    ...                 ...            ...  \n",
       "21288  [Muffin, Tacos/Fajita, Coffee, Tea]                   4         Coffee  \n",
       "21289  [Muffin, Tacos/Fajita, Coffee, Tea]                   4            Tea  \n",
       "21290                     [Coffee, Pastry]                   2         Coffee  \n",
       "21291                     [Coffee, Pastry]                   2         Pastry  \n",
       "21292                          [Smoothies]                   1      Smoothies  \n",
       "\n",
       "[21293 rows x 6 columns]"
      ]
     },
     "execution_count": 29,
     "metadata": {},
     "output_type": "execute_result"
    }
   ],
   "source": [
    "z.toPandas()"
   ]
  },
  {
   "cell_type": "code",
   "execution_count": 34,
   "metadata": {},
   "outputs": [],
   "source": [
    "s = z.groupBy(\"ticket_id\").pivot(\"item\").count().na.fill(0)"
   ]
  },
  {
   "cell_type": "code",
   "execution_count": 35,
   "metadata": {},
   "outputs": [
    {
     "name": "stdout",
     "output_type": "stream",
     "text": [
      "+---------+----------+------------------------+---------+---------------+--------+-----+--------+--------+------------+------+-------------+-----+-------------+------------------+-------+----+-------------+---------------------+------------+------------+---------------+----------+----------------+------+----------------+----+-------+------+------+--------------------------+--------+--------------+----+----------------------+---------+--------------------+-----------+----------+--------+--------+-----+------------+-----------------+-------+--------------+-------------------+-----------------+-----+-------------+---+--------------+-----+----------------+------------+-----------------+---------+--------------+-------------+--------+------+------+----------------+----+---------+--------------+--------+------+------------------+-------+-------+--------+-----------------------------+--------+-----+--------+------------+-----+--------+---------+----+--------------+------+------------+-------+---+--------+---------+------+-----+--------+------+----------------+-----------+--------------+----------------+\n",
      "|ticket_id|Adjustment|Afternoon with the baker|Alfajores|Argentina Night|Art Tray|Bacon|Baguette|Bakewell|Bare Popcorn|Basket|Bowl Nic Pitt|Bread|Bread Pudding|Brioche and salami|Brownie|Cake|Caramel bites|Cherry me Dried fruit|Chicken Stew|Chicken sand|Chimichurri Oil|Chocolates|Christmas common|Coffee|Coffee granules |Coke|Cookies|Crepes|Crisps|Drinking chocolate spoons |Duck egg|Dulce de Leche|Eggs|Ella's Kitchen Pouches|Empanadas|Extra Salami or Feta|Fairy Doors|Farm House|Focaccia|Frittata|Fudge|Gift voucher|Gingerbread syrup|Granola|Hack the stack|Half slice Monster |Hearty & Seasonal|Honey|Hot chocolate|Jam|Jammie Dodgers|Juice|Keeping It Local|Kids biscuit|Lemon and coconut|Medialuna|Mighty Protein|Mineral water|Mortimer|Muesli|Muffin|My-5 Fruit Shoot|NONE|Nomad bag|Olum & polenta|Panatone|Pastry|Pick and Mix Bowls|Pintxos|Polenta|Postcard|Raspberry shortbread sandwich|Raw bars|Salad|Sandwich|Scandinavian|Scone|Siblings|Smoothies|Soup|Spanish Brunch|Spread|Tacos/Fajita|Tartine|Tea|The BART|The Nomad|Tiffin|Toast|Truffles|Tshirt|Valentine's card|Vegan Feast|Vegan mincepie|Victorian Sponge|\n",
      "+---------+----------+------------------------+---------+---------------+--------+-----+--------+--------+------------+------+-------------+-----+-------------+------------------+-------+----+-------------+---------------------+------------+------------+---------------+----------+----------------+------+----------------+----+-------+------+------+--------------------------+--------+--------------+----+----------------------+---------+--------------------+-----------+----------+--------+--------+-----+------------+-----------------+-------+--------------+-------------------+-----------------+-----+-------------+---+--------------+-----+----------------+------------+-----------------+---------+--------------+-------------+--------+------+------+----------------+----+---------+--------------+--------+------+------------------+-------+-------+--------+-----------------------------+--------+-----+--------+------------+-----+--------+---------+----+--------------+------+------------+-------+---+--------+---------+------+-----+--------+------+----------------+-----------+--------------+----------------+\n",
      "|        1|         0|                       0|        0|              0|       0|    0|       0|       0|           0|     0|            0|    1|            0|                 0|      0|   0|            0|                    0|           0|           0|              0|         0|               0|     0|               0|   0|      0|     0|     0|                         0|       0|             0|   0|                     0|        0|                   0|          0|         0|       0|       0|    0|           0|                0|      0|             0|                  0|                0|    0|            0|  0|             0|    0|               0|           0|                0|        0|             0|            0|       0|     0|     0|               0|   0|        0|             0|       0|     0|                 0|      0|      0|       0|                            0|       0|    0|       0|           0|    0|       0|        0|   0|             0|     0|           0|      0|  0|       0|        0|     0|    0|       0|     0|               0|          0|             0|               0|\n",
      "|        2|         0|                       0|        0|              0|       0|    0|       0|       0|           0|     0|            0|    0|            0|                 0|      0|   0|            0|                    0|           0|           0|              0|         0|               0|     0|               0|   0|      0|     0|     0|                         0|       0|             0|   0|                     0|        0|                   0|          0|         0|       0|       0|    0|           0|                0|      0|             0|                  0|                0|    0|            0|  0|             0|    0|               0|           0|                0|        0|             0|            0|       0|     0|     0|               0|   0|        0|             0|       0|     0|                 0|      0|      0|       0|                            0|       0|    0|       0|           2|    0|       0|        0|   0|             0|     0|           0|      0|  0|       0|        0|     0|    0|       0|     0|               0|          0|             0|               0|\n",
      "|        3|         0|                       0|        0|              0|       0|    0|       0|       0|           0|     0|            0|    0|            0|                 0|      0|   0|            0|                    0|           0|           0|              0|         0|               0|     0|               0|   0|      1|     0|     0|                         0|       0|             0|   0|                     0|        0|                   0|          0|         0|       0|       0|    0|           0|                0|      0|             0|                  0|                0|    0|            1|  1|             0|    0|               0|           0|                0|        0|             0|            0|       0|     0|     0|               0|   0|        0|             0|       0|     0|                 0|      0|      0|       0|                            0|       0|    0|       0|           0|    0|       0|        0|   0|             0|     0|           0|      0|  0|       0|        0|     0|    0|       0|     0|               0|          0|             0|               0|\n",
      "|        4|         0|                       0|        0|              0|       0|    0|       0|       0|           0|     0|            0|    0|            0|                 0|      0|   0|            0|                    0|           0|           0|              0|         0|               0|     0|               0|   0|      0|     0|     0|                         0|       0|             0|   0|                     0|        0|                   0|          0|         0|       0|       0|    0|           0|                0|      0|             0|                  0|                0|    0|            0|  0|             0|    0|               0|           0|                0|        0|             0|            0|       0|     0|     1|               0|   0|        0|             0|       0|     0|                 0|      0|      0|       0|                            0|       0|    0|       0|           0|    0|       0|        0|   0|             0|     0|           0|      0|  0|       0|        0|     0|    0|       0|     0|               0|          0|             0|               0|\n",
      "|        5|         0|                       0|        0|              0|       0|    0|       0|       0|           0|     0|            0|    1|            0|                 0|      0|   0|            0|                    0|           0|           0|              0|         0|               0|     1|               0|   0|      0|     0|     0|                         0|       0|             0|   0|                     0|        0|                   0|          0|         0|       0|       0|    0|           0|                0|      0|             0|                  0|                0|    0|            0|  0|             0|    0|               0|           0|                0|        0|             0|            0|       0|     0|     0|               0|   0|        0|             0|       0|     1|                 0|      0|      0|       0|                            0|       0|    0|       0|           0|    0|       0|        0|   0|             0|     0|           0|      0|  0|       0|        0|     0|    0|       0|     0|               0|          0|             0|               0|\n",
      "|        6|         0|                       0|        0|              0|       0|    0|       0|       0|           0|     0|            0|    0|            0|                 0|      0|   0|            0|                    0|           0|           0|              0|         0|               0|     0|               0|   0|      0|     0|     0|                         0|       0|             0|   0|                     0|        0|                   0|          0|         0|       0|       0|    0|           0|                0|      0|             0|                  0|                0|    0|            0|  0|             0|    0|               0|           0|                0|        1|             0|            0|       0|     0|     1|               0|   0|        0|             0|       0|     1|                 0|      0|      0|       0|                            0|       0|    0|       0|           0|    0|       0|        0|   0|             0|     0|           0|      0|  0|       0|        0|     0|    0|       0|     0|               0|          0|             0|               0|\n",
      "|        7|         0|                       0|        0|              0|       0|    0|       0|       0|           0|     0|            0|    0|            0|                 0|      0|   0|            0|                    0|           0|           0|              0|         0|               0|     1|               0|   0|      0|     0|     0|                         0|       0|             0|   0|                     0|        0|                   0|          0|         0|       0|       0|    0|           0|                0|      0|             0|                  0|                0|    0|            0|  0|             0|    0|               0|           0|                0|        1|             0|            0|       0|     0|     0|               0|   0|        0|             0|       0|     1|                 0|      0|      0|       0|                            0|       0|    0|       0|           0|    0|       0|        0|   0|             0|     0|           0|      0|  1|       0|        0|     0|    0|       0|     0|               0|          0|             0|               0|\n",
      "|        8|         0|                       0|        0|              0|       0|    0|       0|       0|           0|     0|            0|    1|            0|                 0|      0|   0|            0|                    0|           0|           0|              0|         0|               0|     0|               0|   0|      0|     0|     0|                         0|       0|             0|   0|                     0|        0|                   0|          0|         0|       0|       0|    0|           0|                0|      0|             0|                  0|                0|    0|            0|  0|             0|    0|               0|           0|                0|        0|             0|            0|       0|     0|     0|               0|   0|        0|             0|       0|     1|                 0|      0|      0|       0|                            0|       0|    0|       0|           0|    0|       0|        0|   0|             0|     0|           0|      0|  0|       0|        0|     0|    0|       0|     0|               0|          0|             0|               0|\n",
      "|        9|         0|                       0|        0|              0|       0|    0|       0|       0|           0|     0|            0|    1|            0|                 0|      0|   0|            0|                    0|           0|           0|              0|         0|               0|     0|               0|   0|      0|     0|     0|                         0|       0|             0|   0|                     0|        0|                   0|          0|         0|       0|       0|    0|           0|                0|      0|             0|                  0|                0|    0|            0|  0|             0|    0|               0|           0|                0|        0|             0|            0|       0|     0|     1|               0|   0|        0|             0|       0|     0|                 0|      0|      0|       0|                            0|       0|    0|       0|           0|    0|       0|        0|   0|             0|     0|           0|      0|  0|       0|        0|     0|    0|       0|     0|               0|          0|             0|               0|\n",
      "|       10|         0|                       0|        0|              0|       0|    0|       0|       0|           0|     0|            0|    0|            0|                 0|      0|   0|            0|                    0|           0|           0|              0|         0|               0|     0|               0|   0|      0|     0|     0|                         0|       0|             0|   0|                     0|        0|                   0|          0|         0|       0|       0|    0|           0|                0|      0|             0|                  0|                0|    0|            0|  0|             0|    0|               0|           0|                0|        1|             0|            0|       0|     0|     0|               0|   0|        0|             0|       0|     0|                 0|      0|      0|       0|                            0|       0|    0|       0|           1|    0|       0|        0|   0|             0|     0|           0|      0|  0|       0|        0|     0|    0|       0|     0|               0|          0|             0|               0|\n",
      "|       11|         0|                       0|        0|              0|       0|    0|       0|       0|           0|     0|            0|    2|            0|                 0|      0|   0|            0|                    0|           0|           0|              0|         0|               0|     0|               0|   0|      0|     0|     0|                         0|       0|             0|   0|                     0|        0|                   0|          0|         0|       0|       0|    0|           0|                0|      0|             0|                  0|                0|    0|            0|  0|             0|    0|               0|           0|                0|        1|             0|            0|       0|     0|     0|               0|   1|        0|             0|       0|     0|                 0|      0|      0|       0|                            0|       0|    0|       0|           0|    0|       0|        0|   0|             0|     0|           0|      0|  0|       0|        0|     0|    0|       0|     0|               0|          0|             0|               0|\n",
      "|       12|         0|                       0|        0|              0|       0|    0|       0|       0|           0|     0|            0|    0|            0|                 0|      0|   0|            0|                    0|           0|           0|              0|         0|               0|     1|               0|   0|      0|     0|     0|                         0|       0|             0|   0|                     0|        0|                   0|          0|         0|       0|       0|    0|           0|                0|      0|             0|                  0|                0|    0|            0|  1|             0|    0|               0|           0|                0|        0|             0|            0|       0|     0|     0|               0|   0|        0|             0|       0|     1|                 0|      0|      0|       0|                            0|       0|    0|       0|           0|    0|       0|        0|   0|             0|     0|           0|      1|  1|       0|        0|     0|    0|       0|     0|               0|          0|             0|               0|\n",
      "|       13|         0|                       0|        0|              0|       0|    0|       0|       0|           0|     1|            0|    1|            0|                 0|      0|   0|            0|                    0|           0|           0|              0|         0|               0|     1|               0|   0|      0|     0|     0|                         0|       0|             0|   0|                     0|        0|                   0|          0|         0|       0|       0|    0|           0|                0|      0|             0|                  0|                0|    0|            0|  0|             0|    0|               0|           0|                0|        0|             0|            0|       0|     0|     0|               0|   0|        0|             0|       0|     0|                 0|      0|      0|       0|                            0|       0|    0|       0|           0|    0|       0|        0|   0|             0|     0|           0|      0|  0|       0|        0|     0|    0|       0|     0|               0|          0|             0|               0|\n",
      "|       14|         0|                       0|        0|              0|       0|    0|       0|       0|           0|     0|            0|    1|            0|                 0|      0|   0|            0|                    0|           0|           0|              0|         0|               0|     0|               0|   0|      0|     0|     0|                         0|       0|             0|   0|                     0|        0|                   0|          0|         0|       0|       0|    0|           0|                0|      0|             0|                  0|                0|    0|            0|  0|             0|    0|               0|           0|                0|        1|             0|            0|       0|     0|     0|               0|   0|        0|             0|       0|     1|                 0|      0|      0|       0|                            0|       0|    0|       0|           0|    0|       0|        0|   0|             0|     0|           0|      0|  0|       0|        0|     0|    0|       0|     0|               0|          0|             0|               0|\n",
      "|       15|         0|                       0|        0|              0|       0|    0|       0|       0|           0|     0|            0|    0|            0|                 0|      0|   0|            0|                    0|           0|           0|              0|         0|               0|     0|               0|   0|      0|     0|     0|                         0|       0|             0|   0|                     0|        0|                   0|          0|         0|       0|       0|    0|           0|                0|      0|             0|                  0|                0|    0|            0|  0|             0|    0|               0|           0|                0|        0|             0|            1|       0|     0|     0|               0|   2|        0|             0|       0|     0|                 0|      0|      0|       0|                            0|       0|    0|       0|           1|    0|       0|        0|   0|             0|     0|           0|      0|  0|       0|        0|     0|    0|       0|     0|               0|          0|             0|               0|\n",
      "|       16|         0|                       0|        0|              0|       0|    0|       0|       0|           0|     0|            0|    1|            0|                 0|      0|   0|            0|                    0|           0|           0|              0|         0|               0|     1|               0|   0|      0|     0|     0|                         0|       0|             0|   0|                     0|        0|                   0|          0|         0|       0|       0|    0|           0|                0|      0|             0|                  0|                0|    0|            0|  0|             0|    0|               0|           0|                0|        1|             0|            0|       0|     0|     0|               0|   0|        0|             0|       0|     0|                 0|      0|      0|       0|                            0|       0|    0|       0|           0|    0|       0|        0|   0|             0|     0|           0|      0|  0|       0|        0|     0|    0|       0|     0|               0|          0|             0|               0|\n",
      "|       17|         0|                       0|        0|              0|       0|    0|       0|       0|           0|     0|            0|    0|            0|                 0|      0|   0|            0|                    0|           0|           0|              0|         0|               0|     0|               0|   0|      0|     0|     0|                         0|       0|             0|   0|                     0|        0|                   0|          0|         0|       0|       0|    0|           0|                0|      0|             0|                  0|                0|    0|            1|  0|             0|    0|               0|           0|                0|        0|             0|            0|       0|     0|     0|               0|   0|        0|             0|       0|     0|                 0|      0|      0|       0|                            0|       0|    0|       0|           0|    0|       0|        0|   0|             0|     0|           0|      0|  0|       0|        0|     0|    0|       0|     0|               0|          0|             0|               0|\n",
      "|       18|         0|                       0|        0|              0|       0|    0|       0|       0|           0|     0|            0|    0|            0|                 0|      0|   0|            0|                    0|           0|           0|              0|         0|               0|     0|               0|   0|      0|     0|     0|                         0|       0|             0|   0|                     0|        0|                   0|          0|         1|       0|       0|    0|           0|                0|      0|             0|                  0|                0|    0|            0|  0|             0|    0|               0|           0|                0|        0|             0|            0|       0|     0|     0|               0|   0|        0|             0|       0|     0|                 0|      0|      0|       0|                            0|       0|    0|       0|           0|    0|       0|        0|   0|             0|     0|           0|      0|  0|       0|        0|     0|    0|       0|     0|               0|          0|             0|               0|\n",
      "|       19|         0|                       0|        0|              0|       0|    0|       0|       0|           0|     0|            0|    1|            0|                 0|      0|   0|            0|                    0|           0|           0|              0|         0|               0|     0|               0|   0|      0|     0|     0|                         0|       0|             0|   0|                     0|        0|                   0|          0|         1|       0|       0|    0|           0|                0|      0|             0|                  0|                0|    0|            0|  0|             0|    0|               0|           0|                0|        0|             0|            0|       0|     0|     0|               0|   0|        0|             0|       0|     0|                 0|      0|      0|       0|                            0|       0|    0|       0|           0|    0|       0|        0|   0|             0|     0|           0|      0|  0|       0|        0|     0|    0|       0|     0|               0|          0|             0|               0|\n",
      "|       20|         0|                       0|        0|              0|       0|    0|       0|       0|           0|     0|            0|    1|            0|                 0|      0|   0|            0|                    0|           0|           0|              0|         0|               0|     0|               0|   0|      0|     0|     0|                         0|       0|             0|   0|                     0|        0|                   0|          0|         0|       0|       0|    0|           0|                0|      0|             0|                  0|                0|    0|            0|  0|             0|    0|               0|           0|                0|        1|             0|            0|       0|     0|     0|               0|   0|        0|             0|       0|     0|                 0|      0|      0|       0|                            0|       0|    0|       0|           0|    0|       0|        0|   0|             0|     0|           0|      0|  0|       0|        0|     0|    0|       0|     0|               0|          0|             0|               0|\n",
      "+---------+----------+------------------------+---------+---------------+--------+-----+--------+--------+------------+------+-------------+-----+-------------+------------------+-------+----+-------------+---------------------+------------+------------+---------------+----------+----------------+------+----------------+----+-------+------+------+--------------------------+--------+--------------+----+----------------------+---------+--------------------+-----------+----------+--------+--------+-----+------------+-----------------+-------+--------------+-------------------+-----------------+-----+-------------+---+--------------+-----+----------------+------------+-----------------+---------+--------------+-------------+--------+------+------+----------------+----+---------+--------------+--------+------+------------------+-------+-------+--------+-----------------------------+--------+-----+--------+------------+-----+--------+---------+----+--------------+------+------------+-------+---+--------+---------+------+-----+--------+------+----------------+-----------+--------------+----------------+\n",
      "only showing top 20 rows\n",
      "\n"
     ]
    }
   ],
   "source": [
    "s.show()"
   ]
  },
  {
   "cell_type": "code",
   "execution_count": 51,
   "metadata": {},
   "outputs": [
    {
     "name": "stdout",
     "output_type": "stream",
     "text": [
      "96\n"
     ]
    },
    {
     "data": {
      "text/plain": [
       "9531"
      ]
     },
     "execution_count": 51,
     "metadata": {},
     "output_type": "execute_result"
    }
   ],
   "source": [
    "print(len(s.columns))\n",
    "s.count()"
   ]
  },
  {
   "cell_type": "code",
   "execution_count": 41,
   "metadata": {},
   "outputs": [
    {
     "name": "stdout",
     "output_type": "stream",
     "text": [
      "+---------+-----+---+\n",
      "|ticket_id|Bread|Jam|\n",
      "+---------+-----+---+\n",
      "|        1|    1|  0|\n",
      "|        2|    0|  0|\n",
      "|        3|    0|  1|\n",
      "|        4|    0|  0|\n",
      "|        5|    1|  0|\n",
      "|        6|    0|  0|\n",
      "|        7|    0|  0|\n",
      "|        8|    1|  0|\n",
      "|        9|    1|  0|\n",
      "|       10|    0|  0|\n",
      "|       11|    2|  0|\n",
      "|       12|    0|  1|\n",
      "|       13|    1|  0|\n",
      "|       14|    1|  0|\n",
      "|       15|    0|  0|\n",
      "|       16|    1|  0|\n",
      "|       17|    0|  0|\n",
      "|       18|    0|  0|\n",
      "|       19|    1|  0|\n",
      "|       20|    1|  0|\n",
      "+---------+-----+---+\n",
      "only showing top 20 rows\n",
      "\n"
     ]
    }
   ],
   "source": [
    "s.select([\"ticket_id\",\"Bread\",\"Jam\"]).show()"
   ]
  },
  {
   "cell_type": "code",
   "execution_count": 42,
   "metadata": {},
   "outputs": [
    {
     "name": "stdout",
     "output_type": "stream",
     "text": [
      "+---------+----------+------------------------+---------+---------------+\n",
      "|ticket_id|Adjustment|Afternoon with the baker|Alfajores|Argentina Night|\n",
      "+---------+----------+------------------------+---------+---------------+\n",
      "|        1|         0|                       0|        0|              0|\n",
      "|        2|         0|                       0|        0|              0|\n",
      "|        3|         0|                       0|        0|              0|\n",
      "|        4|         0|                       0|        0|              0|\n",
      "|        5|         0|                       0|        0|              0|\n",
      "|        6|         0|                       0|        0|              0|\n",
      "|        7|         0|                       0|        0|              0|\n",
      "|        8|         0|                       0|        0|              0|\n",
      "|        9|         0|                       0|        0|              0|\n",
      "|       10|         0|                       0|        0|              0|\n",
      "|       11|         0|                       0|        0|              0|\n",
      "|       12|         0|                       0|        0|              0|\n",
      "|       13|         0|                       0|        0|              0|\n",
      "|       14|         0|                       0|        0|              0|\n",
      "|       15|         0|                       0|        0|              0|\n",
      "|       16|         0|                       0|        0|              0|\n",
      "|       17|         0|                       0|        0|              0|\n",
      "|       18|         0|                       0|        0|              0|\n",
      "|       19|         0|                       0|        0|              0|\n",
      "|       20|         0|                       0|        0|              0|\n",
      "+---------+----------+------------------------+---------+---------------+\n",
      "only showing top 20 rows\n",
      "\n"
     ]
    }
   ],
   "source": [
    "s.select(s.columns[:5]).show()"
   ]
  },
  {
   "cell_type": "code",
   "execution_count": 44,
   "metadata": {},
   "outputs": [
    {
     "name": "stdout",
     "output_type": "stream",
     "text": [
      "+---------+-----+---+\n",
      "|ticket_id|Bread|Jam|\n",
      "+---------+-----+---+\n",
      "|       11|    2|  0|\n",
      "|      194|    2|  0|\n",
      "|      281|    2|  0|\n",
      "|      474|    2|  0|\n",
      "|      489|    2|  0|\n",
      "|      541|    2|  0|\n",
      "|      565|    2|  0|\n",
      "|      948|    2|  0|\n",
      "|      986|    2|  0|\n",
      "|     1037|    2|  0|\n",
      "|     1168|    2|  0|\n",
      "|     1189|    2|  0|\n",
      "|     1206|    2|  0|\n",
      "|     1238|    2|  0|\n",
      "|     1254|    2|  0|\n",
      "|     1259|    2|  0|\n",
      "|     1297|    2|  0|\n",
      "|     1318|    2|  0|\n",
      "|     1336|    2|  0|\n",
      "|     1458|    2|  0|\n",
      "+---------+-----+---+\n",
      "only showing top 20 rows\n",
      "\n"
     ]
    }
   ],
   "source": [
    "s.filter(\"Bread >= 2\").select([\"ticket_id\",\"Bread\",\"Jam\"]).show()"
   ]
  },
  {
   "cell_type": "code",
   "execution_count": 48,
   "metadata": {},
   "outputs": [
    {
     "name": "stdout",
     "output_type": "stream",
     "text": [
      "+-----+---+\n",
      "|Bread|Jam|\n",
      "+-----+---+\n",
      "|    1|  0|\n",
      "|    0|  0|\n",
      "|    0|  1|\n",
      "|    0|  0|\n",
      "|    1|  0|\n",
      "|    0|  0|\n",
      "|    0|  0|\n",
      "|    1|  0|\n",
      "|    1|  0|\n",
      "|    0|  0|\n",
      "|    2|  0|\n",
      "|    0|  1|\n",
      "|    1|  0|\n",
      "|    1|  0|\n",
      "|    0|  0|\n",
      "|    1|  0|\n",
      "|    0|  0|\n",
      "|    0|  0|\n",
      "|    1|  0|\n",
      "|    1|  0|\n",
      "+-----+---+\n",
      "only showing top 20 rows\n",
      "\n"
     ]
    }
   ],
   "source": [
    "a = s.select([\"ticket_id\",\"Bread\",\"Jam\"])\n",
    "x = a.drop(\"ticket_id\")\n",
    "x.show()"
   ]
  },
  {
   "cell_type": "code",
   "execution_count": 52,
   "metadata": {},
   "outputs": [
    {
     "data": {
      "text/html": [
       "<div>\n",
       "<style scoped>\n",
       "    .dataframe tbody tr th:only-of-type {\n",
       "        vertical-align: middle;\n",
       "    }\n",
       "\n",
       "    .dataframe tbody tr th {\n",
       "        vertical-align: top;\n",
       "    }\n",
       "\n",
       "    .dataframe thead th {\n",
       "        text-align: right;\n",
       "    }\n",
       "</style>\n",
       "<table border=\"1\" class=\"dataframe\">\n",
       "  <thead>\n",
       "    <tr style=\"text-align: right;\">\n",
       "      <th></th>\n",
       "      <th>ticket_id</th>\n",
       "      <th>Adjustment</th>\n",
       "      <th>Afternoon with the baker</th>\n",
       "      <th>Alfajores</th>\n",
       "      <th>Argentina Night</th>\n",
       "      <th>Art Tray</th>\n",
       "      <th>Bacon</th>\n",
       "      <th>Baguette</th>\n",
       "      <th>Bakewell</th>\n",
       "      <th>Bare Popcorn</th>\n",
       "      <th>...</th>\n",
       "      <th>The BART</th>\n",
       "      <th>The Nomad</th>\n",
       "      <th>Tiffin</th>\n",
       "      <th>Toast</th>\n",
       "      <th>Truffles</th>\n",
       "      <th>Tshirt</th>\n",
       "      <th>Valentine's card</th>\n",
       "      <th>Vegan Feast</th>\n",
       "      <th>Vegan mincepie</th>\n",
       "      <th>Victorian Sponge</th>\n",
       "    </tr>\n",
       "  </thead>\n",
       "  <tbody>\n",
       "    <tr>\n",
       "      <th>0</th>\n",
       "      <td>1</td>\n",
       "      <td>0</td>\n",
       "      <td>0</td>\n",
       "      <td>0</td>\n",
       "      <td>0</td>\n",
       "      <td>0</td>\n",
       "      <td>0</td>\n",
       "      <td>0</td>\n",
       "      <td>0</td>\n",
       "      <td>0</td>\n",
       "      <td>...</td>\n",
       "      <td>0</td>\n",
       "      <td>0</td>\n",
       "      <td>0</td>\n",
       "      <td>0</td>\n",
       "      <td>0</td>\n",
       "      <td>0</td>\n",
       "      <td>0</td>\n",
       "      <td>0</td>\n",
       "      <td>0</td>\n",
       "      <td>0</td>\n",
       "    </tr>\n",
       "    <tr>\n",
       "      <th>1</th>\n",
       "      <td>2</td>\n",
       "      <td>0</td>\n",
       "      <td>0</td>\n",
       "      <td>0</td>\n",
       "      <td>0</td>\n",
       "      <td>0</td>\n",
       "      <td>0</td>\n",
       "      <td>0</td>\n",
       "      <td>0</td>\n",
       "      <td>0</td>\n",
       "      <td>...</td>\n",
       "      <td>0</td>\n",
       "      <td>0</td>\n",
       "      <td>0</td>\n",
       "      <td>0</td>\n",
       "      <td>0</td>\n",
       "      <td>0</td>\n",
       "      <td>0</td>\n",
       "      <td>0</td>\n",
       "      <td>0</td>\n",
       "      <td>0</td>\n",
       "    </tr>\n",
       "    <tr>\n",
       "      <th>2</th>\n",
       "      <td>3</td>\n",
       "      <td>0</td>\n",
       "      <td>0</td>\n",
       "      <td>0</td>\n",
       "      <td>0</td>\n",
       "      <td>0</td>\n",
       "      <td>0</td>\n",
       "      <td>0</td>\n",
       "      <td>0</td>\n",
       "      <td>0</td>\n",
       "      <td>...</td>\n",
       "      <td>0</td>\n",
       "      <td>0</td>\n",
       "      <td>0</td>\n",
       "      <td>0</td>\n",
       "      <td>0</td>\n",
       "      <td>0</td>\n",
       "      <td>0</td>\n",
       "      <td>0</td>\n",
       "      <td>0</td>\n",
       "      <td>0</td>\n",
       "    </tr>\n",
       "    <tr>\n",
       "      <th>3</th>\n",
       "      <td>4</td>\n",
       "      <td>0</td>\n",
       "      <td>0</td>\n",
       "      <td>0</td>\n",
       "      <td>0</td>\n",
       "      <td>0</td>\n",
       "      <td>0</td>\n",
       "      <td>0</td>\n",
       "      <td>0</td>\n",
       "      <td>0</td>\n",
       "      <td>...</td>\n",
       "      <td>0</td>\n",
       "      <td>0</td>\n",
       "      <td>0</td>\n",
       "      <td>0</td>\n",
       "      <td>0</td>\n",
       "      <td>0</td>\n",
       "      <td>0</td>\n",
       "      <td>0</td>\n",
       "      <td>0</td>\n",
       "      <td>0</td>\n",
       "    </tr>\n",
       "    <tr>\n",
       "      <th>4</th>\n",
       "      <td>5</td>\n",
       "      <td>0</td>\n",
       "      <td>0</td>\n",
       "      <td>0</td>\n",
       "      <td>0</td>\n",
       "      <td>0</td>\n",
       "      <td>0</td>\n",
       "      <td>0</td>\n",
       "      <td>0</td>\n",
       "      <td>0</td>\n",
       "      <td>...</td>\n",
       "      <td>0</td>\n",
       "      <td>0</td>\n",
       "      <td>0</td>\n",
       "      <td>0</td>\n",
       "      <td>0</td>\n",
       "      <td>0</td>\n",
       "      <td>0</td>\n",
       "      <td>0</td>\n",
       "      <td>0</td>\n",
       "      <td>0</td>\n",
       "    </tr>\n",
       "  </tbody>\n",
       "</table>\n",
       "<p>5 rows × 96 columns</p>\n",
       "</div>"
      ],
      "text/plain": [
       "   ticket_id  Adjustment  Afternoon with the baker  Alfajores  \\\n",
       "0          1           0                         0          0   \n",
       "1          2           0                         0          0   \n",
       "2          3           0                         0          0   \n",
       "3          4           0                         0          0   \n",
       "4          5           0                         0          0   \n",
       "\n",
       "   Argentina Night  Art Tray  Bacon  Baguette  Bakewell  Bare Popcorn  ...  \\\n",
       "0                0         0      0         0         0             0  ...   \n",
       "1                0         0      0         0         0             0  ...   \n",
       "2                0         0      0         0         0             0  ...   \n",
       "3                0         0      0         0         0             0  ...   \n",
       "4                0         0      0         0         0             0  ...   \n",
       "\n",
       "   The BART  The Nomad  Tiffin  Toast  Truffles  Tshirt  Valentine's card  \\\n",
       "0         0          0       0      0         0       0                 0   \n",
       "1         0          0       0      0         0       0                 0   \n",
       "2         0          0       0      0         0       0                 0   \n",
       "3         0          0       0      0         0       0                 0   \n",
       "4         0          0       0      0         0       0                 0   \n",
       "\n",
       "   Vegan Feast  Vegan mincepie  Victorian Sponge  \n",
       "0            0               0                 0  \n",
       "1            0               0                 0  \n",
       "2            0               0                 0  \n",
       "3            0               0                 0  \n",
       "4            0               0                 0  \n",
       "\n",
       "[5 rows x 96 columns]"
      ]
     },
     "metadata": {},
     "output_type": "display_data"
    }
   ],
   "source": [
    "from sklearn.decomposition import PCA\n",
    "\n",
    "df = s.toPandas()\n",
    "display(df.head())\n",
    "\n",
    "pca_model = PCA(n_components=2)\n",
    "values = pca_model.fit_transform(df)"
   ]
  },
  {
   "cell_type": "code",
   "execution_count": 53,
   "metadata": {},
   "outputs": [
    {
     "data": {
      "text/plain": [
       "array([[-4.84148988e+03, -7.40172198e-01],\n",
       "       [-4.84048989e+03, -4.11312748e-01],\n",
       "       [-4.83948988e+03, -3.54887235e-01],\n",
       "       ...,\n",
       "       [ 4.83951012e+03,  4.33160206e-01],\n",
       "       [ 4.84051012e+03,  5.05842717e-01],\n",
       "       [ 4.84151012e+03, -4.46765473e-01]])"
      ]
     },
     "execution_count": 53,
     "metadata": {},
     "output_type": "execute_result"
    }
   ],
   "source": [
    "values"
   ]
  },
  {
   "cell_type": "code",
   "execution_count": 55,
   "metadata": {},
   "outputs": [
    {
     "data": {
      "text/plain": [
       "<matplotlib.collections.PathCollection at 0x11ddf1490>"
      ]
     },
     "execution_count": 55,
     "metadata": {},
     "output_type": "execute_result"
    },
    {
     "data": {
      "image/png": "[encoded data removed]",
      "text/plain": [
       "<Figure size 432x288 with 1 Axes>"
      ]
     },
     "metadata": {
      "needs_background": "light"
     },
     "output_type": "display_data"
    }
   ],
   "source": [
    "%matplotlib inline\n",
    "import matplotlib.pyplot as plt\n",
    "\n",
    "\n",
    "plt.scatter(values[:,0],values[:,1])"
   ]
  },
  {
   "cell_type": "code",
   "execution_count": null,
   "metadata": {},
   "outputs": [],
   "source": []
  }
 ],
 "metadata": {
  "kernelspec": {
   "display_name": "Python 3",
   "language": "python",
   "name": "python3"
  },
  "language_info": {
   "codemirror_mode": {
    "name": "ipython",
    "version": 3
   },
   "file_extension": ".py",
   "mimetype": "text/x-python",
   "name": "python",
   "nbconvert_exporter": "python",
   "pygments_lexer": "ipython3",
   "version": "3.7.5"
  }
 },
 "nbformat": 4,
 "nbformat_minor": 2
}
