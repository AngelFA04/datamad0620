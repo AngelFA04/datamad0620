{
 "cells": [
  {
   "cell_type": "code",
   "execution_count": 9,
   "metadata": {},
   "outputs": [],
   "source": [
    "class Smartphone:\n",
    "    def __init__(self):\n",
    "        self.marca = \"iPhone\""
   ]
  },
  {
   "cell_type": "code",
   "execution_count": 10,
   "metadata": {},
   "outputs": [],
   "source": [
    "# Crear una instancia de smartphone\n",
    "s1 = Smartphone()\n",
    "s2 = Smartphone()"
   ]
  },
  {
   "cell_type": "code",
   "execution_count": 11,
   "metadata": {},
   "outputs": [
    {
     "data": {
      "text/plain": [
       "<__main__.Smartphone at 0x10e27da10>"
      ]
     },
     "execution_count": 11,
     "metadata": {},
     "output_type": "execute_result"
    }
   ],
   "source": [
    "s1"
   ]
  },
  {
   "cell_type": "code",
   "execution_count": 12,
   "metadata": {},
   "outputs": [
    {
     "data": {
      "text/plain": [
       "<__main__.Smartphone at 0x10e27d9d0>"
      ]
     },
     "execution_count": 12,
     "metadata": {},
     "output_type": "execute_result"
    }
   ],
   "source": [
    "s2"
   ]
  },
  {
   "cell_type": "code",
   "execution_count": 15,
   "metadata": {},
   "outputs": [
    {
     "name": "stdout",
     "output_type": "stream",
     "text": [
      "iPhone iPhone\n"
     ]
    }
   ],
   "source": [
    "print(s1.marca,s2.marca)"
   ]
  },
  {
   "cell_type": "code",
   "execution_count": 16,
   "metadata": {},
   "outputs": [
    {
     "name": "stdout",
     "output_type": "stream",
     "text": [
      "<class '__main__.Smartphone'>\n"
     ]
    }
   ],
   "source": [
    "print(type(s1))"
   ]
  },
  {
   "cell_type": "code",
   "execution_count": 21,
   "metadata": {},
   "outputs": [],
   "source": [
    "class Smartphone:\n",
    "    def __init__(self,marca):\n",
    "        self.marca = marca\n",
    "        self.color = \"blanco\"\n",
    "        self.apps = []\n",
    "        \n",
    "s1 = Smartphone(\"Apple\")\n",
    "s2 = Smartphone(\"Samsung\")"
   ]
  },
  {
   "cell_type": "code",
   "execution_count": 23,
   "metadata": {},
   "outputs": [
    {
     "name": "stdout",
     "output_type": "stream",
     "text": [
      "Apple Samsung\n",
      "blanco blanco\n"
     ]
    }
   ],
   "source": [
    "print(s1.marca,s2.marca)\n",
    "print(s1.color,s2.color)"
   ]
  },
  {
   "cell_type": "code",
   "execution_count": 36,
   "metadata": {},
   "outputs": [],
   "source": [
    "class Smartphone:\n",
    "    def __init__(self, marca = \"Apple\"):\n",
    "        print(\"método constructor\")\n",
    "        self.marca = marca\n",
    "        self.color = \"blanco\"\n",
    "        self.apps = []\n",
    "    \n",
    "    def instala(self, appName):\n",
    "        self.apps.append({\"name\":appName, \"version\":1})\n",
    "        \n"
   ]
  },
  {
   "cell_type": "code",
   "execution_count": 37,
   "metadata": {},
   "outputs": [
    {
     "name": "stdout",
     "output_type": "stream",
     "text": [
      "método constructor\n",
      "[]\n",
      "[{'name': 'Instagram', 'version': 1}, {'name': 'Whatsapp', 'version': 1}]\n"
     ]
    }
   ],
   "source": [
    "s = Smartphone()\n",
    "print(s.apps)\n",
    "s.instala(\"Instagram\")\n",
    "s.instala(\"Whatsapp\")\n",
    "print(s.apps)"
   ]
  },
  {
   "cell_type": "code",
   "execution_count": 38,
   "metadata": {},
   "outputs": [
    {
     "name": "stdout",
     "output_type": "stream",
     "text": [
      "método constructor\n",
      "Samsung [{'name': 'Instagram', 'version': 1}, {'name': 'Whatsapp', 'version': 1}]\n"
     ]
    }
   ],
   "source": [
    "s1 = Smartphone(\"Samsung\")\n",
    "s1.instala(\"Instagram\")\n",
    "s1.instala(\"Whatsapp\")\n",
    "\n",
    "print(s1.marca, s1.apps)"
   ]
  },
  {
   "cell_type": "code",
   "execution_count": 74,
   "metadata": {},
   "outputs": [],
   "source": [
    "class Smartphone:\n",
    "    def __init__(self, marca=\"Apple\", modelo=\"iPhone\", color=\"blanco\"):\n",
    "        self.marca = marca\n",
    "        self.color = color\n",
    "        self.modelo = modelo\n",
    "        self.apps = []\n",
    "    \n",
    "    def instala(self, appName, version=1):\n",
    "        for app in self.apps:\n",
    "            if app[\"name\"] == appName:\n",
    "                raise ValueError(f\"App '{appName}' already installed\")\n",
    "        self.apps.append({\"name\":appName, \"version\":version})\n",
    "        \n",
    "    def info(self):\n",
    "        print(self.marca, self.modelo, self.color, self.apps)"
   ]
  },
  {
   "cell_type": "code",
   "execution_count": 75,
   "metadata": {},
   "outputs": [
    {
     "name": "stdout",
     "output_type": "stream",
     "text": [
      "Apple iPhone blanco [{'name': 'Whatsapp', 'version': 1}]\n",
      "Samsung Galaxy negro []\n"
     ]
    }
   ],
   "source": [
    "s1 = Smartphone()\n",
    "s2 = Smartphone(\"Samsung\", \"Galaxy\", \"negro\")\n",
    "\n",
    "s1.instala(\"Whatsapp\")\n",
    "\n",
    "s1.info()\n",
    "s2.info()"
   ]
  },
  {
   "cell_type": "code",
   "execution_count": 76,
   "metadata": {},
   "outputs": [
    {
     "name": "stdout",
     "output_type": "stream",
     "text": [
      "App 'Whatsapp' already installed\n",
      "Apple iPhone blanco [{'name': 'Whatsapp', 'version': 1}]\n"
     ]
    }
   ],
   "source": [
    "q = Smartphone()\n",
    "try:\n",
    "    q.instala(\"Whatsapp\")\n",
    "    q.instala(\"Whatsapp\")\n",
    "    q.info()\n",
    "except Exception as e:\n",
    "    print(e)\n",
    "    q.info()"
   ]
  },
  {
   "cell_type": "markdown",
   "metadata": {},
   "source": [
    "# Inheritance (herencia)🔥"
   ]
  },
  {
   "cell_type": "code",
   "execution_count": 78,
   "metadata": {},
   "outputs": [],
   "source": [
    "class Animal:\n",
    "    def __init__(self, nombre, sonido):\n",
    "        self.nombre = nombre\n",
    "        self.sonido = sonido\n",
    "    \n",
    "    def makeSound(self):\n",
    "        print(self.sonido*3)"
   ]
  },
  {
   "cell_type": "code",
   "execution_count": 79,
   "metadata": {},
   "outputs": [
    {
     "name": "stdout",
     "output_type": "stream",
     "text": [
      "¡Lasaña!¡Lasaña!¡Lasaña!\n"
     ]
    }
   ],
   "source": [
    "m = Animal(\"Garfield\", \"¡Lasaña!\")\n",
    "m.makeSound()"
   ]
  },
  {
   "cell_type": "code",
   "execution_count": 81,
   "metadata": {},
   "outputs": [
    {
     "name": "stdout",
     "output_type": "stream",
     "text": [
      "<class '__main__.Animal'>\n",
      "True\n"
     ]
    }
   ],
   "source": [
    "print(type(m))\n",
    "print(isinstance(m,Animal))"
   ]
  },
  {
   "cell_type": "code",
   "execution_count": 92,
   "metadata": {},
   "outputs": [
    {
     "name": "stdout",
     "output_type": "stream",
     "text": [
      "¡Lasaña!¡Lasaña!¡Lasaña!\n",
      "MiauMiauMiau\n"
     ]
    }
   ],
   "source": [
    "class Cat(Animal):\n",
    "    def __init__(self, nombre):\n",
    "        self.nombre = nombre\n",
    "        self.sonido = \"Miau\"\n",
    "\n",
    "m = Animal(\"Garfield\", \"¡Lasaña!\")\n",
    "m.makeSound()\n",
    "q = Cat(\"Garfield\")\n",
    "q.makeSound()"
   ]
  },
  {
   "cell_type": "code",
   "execution_count": 88,
   "metadata": {},
   "outputs": [
    {
     "name": "stdout",
     "output_type": "stream",
     "text": [
      "True\n",
      "True\n",
      "True\n",
      "False\n"
     ]
    }
   ],
   "source": [
    "print(isinstance(m,Animal))\n",
    "print(isinstance(q,Cat))\n",
    "print(isinstance(q,Animal))\n",
    "print(isinstance(m,Cat))"
   ]
  },
  {
   "cell_type": "code",
   "execution_count": 95,
   "metadata": {},
   "outputs": [
    {
     "name": "stdout",
     "output_type": "stream",
     "text": [
      "¡Lasaña!¡Lasaña!¡Lasaña!\n",
      "MiauMiauMiau\n",
      "10\n"
     ]
    }
   ],
   "source": [
    "class Cat(Animal):\n",
    "    def __init__(self, nombre, peso = 10):\n",
    "        super().__init__(nombre, \"Miau\")\n",
    "        self.peso = peso\n",
    "\n",
    "m = Animal(\"Garfield\", \"¡Lasaña!\")\n",
    "m.makeSound()\n",
    "q = Cat(\"Garfield\")\n",
    "q.makeSound()\n",
    "print(q.peso)"
   ]
  },
  {
   "cell_type": "code",
   "execution_count": 100,
   "metadata": {},
   "outputs": [
    {
     "name": "stdout",
     "output_type": "stream",
     "text": [
      "True\n",
      "False\n",
      "True\n",
      "True\n"
     ]
    }
   ],
   "source": [
    "print(issubclass(Cat, Animal))\n",
    "print(issubclass(Animal, Cat))\n",
    "print(issubclass(Animal, object))\n",
    "print(issubclass(Cat, object))"
   ]
  },
  {
   "cell_type": "code",
   "execution_count": 106,
   "metadata": {},
   "outputs": [
    {
     "name": "stdout",
     "output_type": "stream",
     "text": [
      "True\n",
      "True\n",
      "True\n",
      "True\n"
     ]
    }
   ],
   "source": [
    "print(isinstance(\"\", object))\n",
    "print(isinstance([], object))\n",
    "print(isinstance(set(), object))\n",
    "\n",
    "def saluda(n):\n",
    "    return \n",
    "print(isinstance(saluda, object))"
   ]
  },
  {
   "cell_type": "code",
   "execution_count": 110,
   "metadata": {},
   "outputs": [
    {
     "name": "stdout",
     "output_type": "stream",
     "text": [
      "True\n",
      "True\n"
     ]
    }
   ],
   "source": [
    "print(isinstance(True, object))\n",
    "print(isinstance(3, object))"
   ]
  },
  {
   "cell_type": "code",
   "execution_count": 130,
   "metadata": {},
   "outputs": [
    {
     "name": "stdout",
     "output_type": "stream",
     "text": [
      "True\n",
      "True\n",
      "True\n",
      "True\n"
     ]
    }
   ],
   "source": [
    "#https://stackoverflow.com/questions/15987715/common-baseclass-for-iterables\n",
    "from collections import abc\n",
    "print(isinstance([], abc.Iterable))\n",
    "print(isinstance({}, abc.Iterable))\n",
    "print(isinstance(dict(), abc.Iterable))\n",
    "print(isinstance(\"\", abc.Iterable))"
   ]
  },
  {
   "cell_type": "code",
   "execution_count": 134,
   "metadata": {},
   "outputs": [
    {
     "name": "stdout",
     "output_type": "stream",
     "text": [
      "True\n",
      "True\n",
      "True\n",
      "True\n"
     ]
    }
   ],
   "source": [
    "#https://docs.python.org/3/library/exceptions.html\n",
    "print(issubclass(ValueError,Exception))\n",
    "print(isinstance(ValueError(\"asdf\"),Exception))\n",
    "print(issubclass(BaseException,object))\n",
    "print(issubclass(IndexError,Exception)"
   ]
  },
  {
   "cell_type": "code",
   "execution_count": 138,
   "metadata": {},
   "outputs": [
    {
     "name": "stdout",
     "output_type": "stream",
     "text": [
      "error de value Hola\n"
     ]
    }
   ],
   "source": [
    "try:\n",
    "    a = [1,2,3]\n",
    "    raise ValueError(\"Hola\")\n",
    "    a[5]\n",
    "except IndexError as e:\n",
    "    print(\"error de indice\",e)\n",
    "except ValueError as e:\n",
    "    print(\"error de value\",e)\n",
    "except Exception as e:\n",
    "    print(\"errorgeneral\",e)"
   ]
  },
  {
   "cell_type": "code",
   "execution_count": 145,
   "metadata": {},
   "outputs": [
    {
     "name": "stdout",
     "output_type": "stream",
     "text": [
      "Hola\n",
      "Adios\n",
      "33\n",
      "Hola\n"
     ]
    }
   ],
   "source": [
    "# Sobrecarga de método\n",
    "\n",
    "class A:\n",
    "    def saluda(self):\n",
    "        print(\"Hola\")\n",
    "    \n",
    "class B(A):\n",
    "    def saluda(self):\n",
    "        self.hola = 33\n",
    "        print(\"Adios\")\n",
    "\n",
    "    def saluda2(self):\n",
    "        # Instead of calling our own saluda method, we call our parent saluda method\n",
    "        super().saluda()\n",
    "        \n",
    "a = A()\n",
    "a.saluda()\n",
    "\n",
    "b = B()\n",
    "b.saluda()\n",
    "print(b.hola)\n",
    "b.saluda2()"
   ]
  },
  {
   "cell_type": "code",
   "execution_count": null,
   "metadata": {},
   "outputs": [],
   "source": []
  }
 ],
 "metadata": {
  "kernelspec": {
   "display_name": "Python 3",
   "language": "python",
   "name": "python3"
  },
  "language_info": {
   "codemirror_mode": {
    "name": "ipython",
    "version": 3
   },
   "file_extension": ".py",
   "mimetype": "text/x-python",
   "name": "python",
   "nbconvert_exporter": "python",
   "pygments_lexer": "ipython3",
   "version": "3.7.5"
  }
 },
 "nbformat": 4,
 "nbformat_minor": 2
}
