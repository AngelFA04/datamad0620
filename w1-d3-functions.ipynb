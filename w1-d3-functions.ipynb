{
 "cells": [
  {
   "cell_type": "code",
   "execution_count": 4,
   "metadata": {},
   "outputs": [
    {
     "name": "stdout",
     "output_type": "stream",
     "text": [
      "Hola\n",
      "None\n"
     ]
    }
   ],
   "source": [
    "x = print(\"Hola\")\n",
    "print(x)"
   ]
  },
  {
   "cell_type": "code",
   "execution_count": 1,
   "metadata": {},
   "outputs": [
    {
     "ename": "NameError",
     "evalue": "name 'saluda' is not defined",
     "output_type": "error",
     "traceback": [
      "\u001b[0;31m---------------------------------------------------------------------------\u001b[0m",
      "\u001b[0;31mNameError\u001b[0m                                 Traceback (most recent call last)",
      "\u001b[0;32m<ipython-input-1-db1903171004>\u001b[0m in \u001b[0;36m<module>\u001b[0;34m\u001b[0m\n\u001b[0;32m----> 1\u001b[0;31m \u001b[0msaluda\u001b[0m\u001b[0;34m(\u001b[0m\u001b[0;34m)\u001b[0m\u001b[0;34m\u001b[0m\u001b[0;34m\u001b[0m\u001b[0m\n\u001b[0m\u001b[1;32m      2\u001b[0m \u001b[0;34m\u001b[0m\u001b[0m\n\u001b[1;32m      3\u001b[0m \u001b[0;32mdef\u001b[0m \u001b[0msaluda\u001b[0m\u001b[0;34m(\u001b[0m\u001b[0;34m)\u001b[0m\u001b[0;34m:\u001b[0m\u001b[0;34m\u001b[0m\u001b[0;34m\u001b[0m\u001b[0m\n\u001b[1;32m      4\u001b[0m     \u001b[0mprint\u001b[0m\u001b[0;34m(\u001b[0m\u001b[0;34m\"Hola\"\u001b[0m\u001b[0;34m)\u001b[0m\u001b[0;34m\u001b[0m\u001b[0;34m\u001b[0m\u001b[0m\n\u001b[1;32m      5\u001b[0m     \u001b[0;32mreturn\u001b[0m \u001b[0;34m\"Hola\"\u001b[0m\u001b[0;34m\u001b[0m\u001b[0;34m\u001b[0m\u001b[0m\n",
      "\u001b[0;31mNameError\u001b[0m: name 'saluda' is not defined"
     ]
    }
   ],
   "source": [
    "saluda()\n",
    "\n",
    "def saluda():\n",
    "    print(\"Hola\")\n",
    "    return \"Hola\""
   ]
  },
  {
   "cell_type": "code",
   "execution_count": 5,
   "metadata": {},
   "outputs": [
    {
     "name": "stdout",
     "output_type": "stream",
     "text": [
      "PEPE\n"
     ]
    }
   ],
   "source": [
    "print(\"PEPE\")"
   ]
  },
  {
   "cell_type": "code",
   "execution_count": 7,
   "metadata": {},
   "outputs": [],
   "source": [
    "x = 5"
   ]
  },
  {
   "cell_type": "code",
   "execution_count": 8,
   "metadata": {},
   "outputs": [
    {
     "data": {
      "text/plain": [
       "5"
      ]
     },
     "execution_count": 8,
     "metadata": {},
     "output_type": "execute_result"
    }
   ],
   "source": [
    "x"
   ]
  },
  {
   "cell_type": "code",
   "execution_count": 9,
   "metadata": {},
   "outputs": [
    {
     "data": {
      "text/plain": [
       "34234"
      ]
     },
     "execution_count": 9,
     "metadata": {},
     "output_type": "execute_result"
    }
   ],
   "source": [
    "int(\"34234\")"
   ]
  },
  {
   "cell_type": "code",
   "execution_count": 6,
   "metadata": {
    "scrolled": true
   },
   "outputs": [
    {
     "name": "stdout",
     "output_type": "stream",
     "text": [
      "Hola PEPE\n"
     ]
    },
    {
     "data": {
      "text/plain": [
       "'Hola JUAN'"
      ]
     },
     "execution_count": 6,
     "metadata": {},
     "output_type": "execute_result"
    }
   ],
   "source": [
    "def saludame(n):\n",
    "    return \"Hola \" + n\n",
    "\n",
    "h = saludame\n",
    "print(saludame(\"PEPE\"))\n",
    "h(\"JUAN\")"
   ]
  },
  {
   "cell_type": "code",
   "execution_count": 10,
   "metadata": {},
   "outputs": [
    {
     "name": "stdout",
     "output_type": "stream",
     "text": [
      "Hola Pepe\n"
     ]
    },
    {
     "ename": "NameError",
     "evalue": "name 'diHola' is not defined",
     "output_type": "error",
     "traceback": [
      "\u001b[0;31m---------------------------------------------------------------------------\u001b[0m",
      "\u001b[0;31mNameError\u001b[0m                                 Traceback (most recent call last)",
      "\u001b[0;32m<ipython-input-10-b68cdcfa5b5d>\u001b[0m in \u001b[0;36m<module>\u001b[0;34m\u001b[0m\n\u001b[1;32m      5\u001b[0m \u001b[0;34m\u001b[0m\u001b[0m\n\u001b[1;32m      6\u001b[0m \u001b[0msaludame\u001b[0m\u001b[0;34m(\u001b[0m\u001b[0;34m\"Pepe\"\u001b[0m\u001b[0;34m)\u001b[0m\u001b[0;34m\u001b[0m\u001b[0;34m\u001b[0m\u001b[0m\n\u001b[0;32m----> 7\u001b[0;31m \u001b[0mdiHola\u001b[0m\u001b[0;34m(\u001b[0m\u001b[0;34m\"Pepe\"\u001b[0m\u001b[0;34m)\u001b[0m\u001b[0;34m\u001b[0m\u001b[0;34m\u001b[0m\u001b[0m\n\u001b[0m",
      "\u001b[0;31mNameError\u001b[0m: name 'diHola' is not defined"
     ]
    }
   ],
   "source": [
    "def saludame(q):\n",
    "    def diHola(p):\n",
    "        print(\"Hola\", p)\n",
    "    diHola(q)\n",
    "\n",
    "saludame(\"Pepe\")\n",
    "diHola(\"Pepe\")"
   ]
  },
  {
   "cell_type": "code",
   "execution_count": 6,
   "metadata": {},
   "outputs": [
    {
     "name": "stdout",
     "output_type": "stream",
     "text": [
      "5\n",
      "10\n",
      "15\n"
     ]
    }
   ],
   "source": [
    "cuenta = 0\n",
    "def diHola(p):\n",
    "    global cuenta\n",
    "    cuenta += p\n",
    "    print(cuenta)\n",
    "\n",
    "diHola(5)\n",
    "diHola(5)\n",
    "diHola(5)\n"
   ]
  },
  {
   "cell_type": "code",
   "execution_count": 8,
   "metadata": {},
   "outputs": [
    {
     "data": {
      "text/plain": [
       "0.48916906710447694"
      ]
     },
     "execution_count": 8,
     "metadata": {},
     "output_type": "execute_result"
    }
   ],
   "source": [
    "import random\n",
    "random.random()"
   ]
  },
  {
   "cell_type": "markdown",
   "metadata": {},
   "source": [
    "# Positional args"
   ]
  },
  {
   "cell_type": "code",
   "execution_count": 17,
   "metadata": {},
   "outputs": [
    {
     "name": "stdout",
     "output_type": "stream",
     "text": [
      "nombre:Pepe, lang:es\n",
      "nombre:Juan, lang:en\n",
      "nombre:Juan, lang:laksjdfh\n",
      "¡¡Hola Pepe!!\n",
      "Hello Juan!\n",
      "BAD LANGUAGE\n"
     ]
    }
   ],
   "source": [
    "def saluda(nombre, lang=\"es\"):\n",
    "    print(f\"nombre:{nombre}, lang:{lang}\")\n",
    "    if lang==\"es\":\n",
    "        return f\"¡¡Hola {nombre}!!\" # return \"¡¡Hola \" + nombre + \"!!\"\n",
    "    elif lang==\"en\":\n",
    "        return f\"Hello {nombre}!\"\n",
    "    return \"BAD LANGUAGE\"\n",
    "    \n",
    "x = saluda(\"Pepe\")\n",
    "y = saluda(\"Juan\",\"en\")\n",
    "z = saluda(\"Juan\",\"laksjdfh\")\n",
    "print(x)\n",
    "print(y)\n",
    "print(z)"
   ]
  },
  {
   "cell_type": "code",
   "execution_count": 15,
   "metadata": {},
   "outputs": [
    {
     "name": "stdout",
     "output_type": "stream",
     "text": [
      "nombre:Felipe, lang:en\n",
      "Hello Felipe!\n",
      "nombre:Clara, lang:en\n",
      "Hello Clara!\n",
      "nombre:Luis, lang:en\n",
      "Hello Luis!\n",
      "nombre:Pepe, lang:en\n",
      "Hello Pepe!\n"
     ]
    }
   ],
   "source": [
    "def saludaVarios(nombres, lang):\n",
    "    for nombre in nombres:\n",
    "        print(saluda(nombre,lang))\n",
    "        \n",
    "saludaVarios([\"Felipe\",\"Clara\",\"Luis\",\"Pepe\"],\"en\")"
   ]
  },
  {
   "cell_type": "code",
   "execution_count": null,
   "metadata": {},
   "outputs": [],
   "source": []
  },
  {
   "cell_type": "code",
   "execution_count": 22,
   "metadata": {},
   "outputs": [
    {
     "name": "stdout",
     "output_type": "stream",
     "text": [
      "a:5 b:10 c:5\n",
      "250\n"
     ]
    }
   ],
   "source": [
    "def multiplica(a,b=10,c=5):\n",
    "    print(f\"a:{a} b:{b} c:{c}\")\n",
    "    print(a*b*c)\n",
    "    \n",
    "multiplica(5)"
   ]
  },
  {
   "cell_type": "markdown",
   "metadata": {},
   "source": [
    "# KEYWORD ARGS"
   ]
  },
  {
   "cell_type": "code",
   "execution_count": 25,
   "metadata": {},
   "outputs": [
    {
     "name": "stdout",
     "output_type": "stream",
     "text": [
      "a:5 b:10 c:50\n",
      "2500\n"
     ]
    }
   ],
   "source": [
    "def multiplica(a,b=10,c=5):\n",
    "    print(f\"a:{a} b:{b} c:{c}\")\n",
    "    print(a*b*c)\n",
    "    \n",
    "multiplica(5,c=50)"
   ]
  },
  {
   "cell_type": "code",
   "execution_count": 29,
   "metadata": {},
   "outputs": [
    {
     "name": "stdout",
     "output_type": "stream",
     "text": [
      "a:3 b:10 c:50\n",
      "1500\n"
     ]
    }
   ],
   "source": [
    "multiplica(c=50,a=3)"
   ]
  },
  {
   "cell_type": "code",
   "execution_count": 42,
   "metadata": {},
   "outputs": [
    {
     "name": "stdout",
     "output_type": "stream",
     "text": [
      "('Felipe', 'Clara', 'Luis', 'Pepe', 'JUAN')\n",
      "👋🏻 Felipe\n",
      "👋🏻 Clara\n",
      "👋🏻 Luis\n",
      "👋🏻 Pepe\n",
      "👋🏻 JUAN\n"
     ]
    }
   ],
   "source": [
    "def saluda(name):\n",
    "    return f\"👋🏻 {name}\"\n",
    "\n",
    "def saludaMuchos(*nombres):\n",
    "    print(nombres)\n",
    "    for nombre in nombres:\n",
    "        print(saluda(nombre))\n",
    "        \n",
    "saludaMuchos(\"Felipe\",\"Clara\",\"Luis\",\"Pepe\",\"JUAN\")"
   ]
  },
  {
   "cell_type": "code",
   "execution_count": 45,
   "metadata": {},
   "outputs": [
    {
     "name": "stdout",
     "output_type": "stream",
     "text": [
      "(['Felipe', 'Clara', 'Luis', 'Pepe', 'JUAN'],)\n",
      "👋🏻 ['Felipe', 'Clara', 'Luis', 'Pepe', 'JUAN']\n"
     ]
    }
   ],
   "source": [
    "q = [\"Felipe\",\"Clara\",\"Luis\",\"Pepe\",\"JUAN\"]\n",
    "saludaMuchos(q)"
   ]
  },
  {
   "cell_type": "markdown",
   "metadata": {},
   "source": [
    "# Converting positionals from lists with \"*\" operator"
   ]
  },
  {
   "cell_type": "code",
   "execution_count": 46,
   "metadata": {},
   "outputs": [
    {
     "name": "stdout",
     "output_type": "stream",
     "text": [
      "('Felipe', 'Clara', 'Luis', 'Pepe', 'JUAN')\n",
      "👋🏻 Felipe\n",
      "👋🏻 Clara\n",
      "👋🏻 Luis\n",
      "👋🏻 Pepe\n",
      "👋🏻 JUAN\n"
     ]
    }
   ],
   "source": [
    "q = [\"Felipe\",\"Clara\",\"Luis\",\"Pepe\",\"JUAN\"]\n",
    "saludaMuchos(*q)"
   ]
  },
  {
   "cell_type": "code",
   "execution_count": 53,
   "metadata": {},
   "outputs": [
    {
     "name": "stdout",
     "output_type": "stream",
     "text": [
      "('Felipe', 'Clara', 'Luis', 'Pepe', 'JUAN', 'es')\n",
      "👋🏻 Felipe\n",
      "👋🏻 Clara\n",
      "👋🏻 Luis\n",
      "👋🏻 Pepe\n",
      "👋🏻 JUAN\n",
      "👋🏻 es\n",
      "('Felipe', 'Clara', 'Luis', 'Pepe', 'JUAN')\n",
      "👋🏻 Felipe\n",
      "👋🏻 Clara\n",
      "👋🏻 Luis\n",
      "👋🏻 Pepe\n",
      "👋🏻 JUAN\n",
      "('Felipe', 'Clara', 'Luis', 'Pepe', 'JUAN')\n",
      "🔥 Felipe\n",
      "🔥 Clara\n",
      "🔥 Luis\n",
      "🔥 Pepe\n",
      "🔥 JUAN\n",
      "('Felipe', 'Clara', 'Luis', 'Pepe', 'JUAN')\n",
      "🔥 Felipe\n",
      "🔥 Clara\n",
      "🔥 Luis\n",
      "🔥 Pepe\n",
      "🔥 JUAN\n"
     ]
    }
   ],
   "source": [
    "def saluda(name):\n",
    "    return f\"👋🏻 {name}\"\n",
    "\n",
    "def saludaMAL(name):\n",
    "    return f\"🔥 {name}\"\n",
    "\n",
    "def saludaMuchos(*nombres, lang=\"es\"):\n",
    "    print(nombres)\n",
    "    for nombre in nombres:\n",
    "        if lang==\"es\":\n",
    "            print(saluda(nombre))\n",
    "        else:\n",
    "            print(saludaMAL(nombre))\n",
    "\n",
    "saludaMuchos(\"Felipe\",\"Clara\",\"Luis\",\"Pepe\",\"JUAN\",\"es\")\n",
    "saludaMuchos(\"Felipe\",\"Clara\",\"Luis\",\"Pepe\",\"JUAN\",lang=\"es\")\n",
    "saludaMuchos(\"Felipe\",\"Clara\",\"Luis\",\"Pepe\",\"JUAN\",lang=\"en\")\n",
    "\n",
    "q = [\"Felipe\",\"Clara\",\"Luis\",\"Pepe\",\"JUAN\"]\n",
    "saludaMuchos(*q,lang=\"en\")\n"
   ]
  },
  {
   "cell_type": "code",
   "execution_count": 59,
   "metadata": {},
   "outputs": [
    {
     "name": "stdout",
     "output_type": "stream",
     "text": [
      "[1, 2, 3]\n",
      "1 2 3\n",
      "1 2 3\n"
     ]
    }
   ],
   "source": [
    "print([1,2,3])\n",
    "print(*[1,2,3]) # => print(1,2,3)\n",
    "print(1,2,3)"
   ]
  },
  {
   "cell_type": "code",
   "execution_count": null,
   "metadata": {},
   "outputs": [],
   "source": []
  },
  {
   "cell_type": "code",
   "execution_count": 64,
   "metadata": {},
   "outputs": [
    {
     "data": {
      "text/plain": [
       "20"
      ]
     },
     "execution_count": 64,
     "metadata": {},
     "output_type": "execute_result"
    }
   ],
   "source": [
    "sum([5,5,5,5])"
   ]
  },
  {
   "cell_type": "code",
   "execution_count": 71,
   "metadata": {},
   "outputs": [
    {
     "data": {
      "text/plain": [
       "25"
      ]
     },
     "execution_count": 71,
     "metadata": {},
     "output_type": "execute_result"
    }
   ],
   "source": [
    "def sumaMola(*v):\n",
    "    return sum(v)\n",
    "    \n",
    "x = sumaMola(5,5,5,5,5)\n",
    "x"
   ]
  },
  {
   "cell_type": "markdown",
   "metadata": {},
   "source": [
    "# Mulitple kwargs with object"
   ]
  },
  {
   "cell_type": "code",
   "execution_count": 73,
   "metadata": {},
   "outputs": [
    {
     "name": "stdout",
     "output_type": "stream",
     "text": [
      "👋🏻 Hola eres Pepe Garcia y tienes 30 años\n"
     ]
    }
   ],
   "source": [
    "def saluda(nombre, apellido, edad):\n",
    "    print(f\"👋🏻 Hola eres {nombre} {apellido} y tienes {edad} años\")\n",
    "    \n",
    "saluda(\"Pepe\",\"Garcia\",30)"
   ]
  },
  {
   "cell_type": "code",
   "execution_count": 74,
   "metadata": {},
   "outputs": [
    {
     "name": "stdout",
     "output_type": "stream",
     "text": [
      "👋🏻 Hola eres Garcia Pepe y tienes 30 años\n"
     ]
    }
   ],
   "source": [
    "saluda(apellido=\"Pepe\",nombre=\"Garcia\",edad=30)"
   ]
  },
  {
   "cell_type": "code",
   "execution_count": 80,
   "metadata": {},
   "outputs": [
    {
     "name": "stdout",
     "output_type": "stream",
     "text": [
      "👋🏻 Hola eres Fran Pérez y tienes 25 años\n",
      "👋🏻 Hola eres Fran Pérez y tienes 25 años\n"
     ]
    }
   ],
   "source": [
    "alumno = {\n",
    "    \"nombre\":\"Fran\",\n",
    "    \"apellido\":\"Pérez\",\n",
    "    \"edad\": 25,\n",
    "}\n",
    "saluda(alumno[\"nombre\"],alumno[\"apellido\"],alumno[\"edad\"])\n",
    "saluda(**alumno)"
   ]
  },
  {
   "cell_type": "code",
   "execution_count": 85,
   "metadata": {},
   "outputs": [
    {
     "name": "stdout",
     "output_type": "stream",
     "text": [
      "(1, 2, 3, 5)\n",
      "👋🏻 Hola eres Fran Pérez y tienes 25 años\n",
      "Nota:1\n",
      "Nota:2\n",
      "Nota:3\n",
      "Nota:5\n"
     ]
    }
   ],
   "source": [
    "def saluda(*notas, nombre, apellido, edad):\n",
    "    print(notas)\n",
    "    print(f\"👋🏻 Hola eres {nombre} {apellido} y tienes {edad} años\")\n",
    "    for nota in notas:\n",
    "        print(f\"Nota:{nota}\")\n",
    "\n",
    "m = [1,2,3,5]\n",
    "saluda(*m,**alumno)"
   ]
  },
  {
   "cell_type": "code",
   "execution_count": 133,
   "metadata": {},
   "outputs": [
    {
     "name": "stdout",
     "output_type": "stream",
     "text": [
      "args ->  (1, 2, 3)\n",
      "kwargs ->  {}\n",
      "------\n",
      "args ->  ()\n",
      "kwargs ->  {'q': 25}\n",
      "------\n",
      "args ->  ()\n",
      "kwargs ->  {'a': 5, 'b': 4, 'c': 3}\n",
      "------\n",
      "args ->  (1, 2, 3)\n",
      "kwargs ->  {'a': 5, 'b': 4, 'c': 3}\n",
      "------\n"
     ]
    }
   ],
   "source": [
    "def allfunctions(*args,**kwargs):\n",
    "    print(\"args -> \",args)\n",
    "    print(\"kwargs -> \",kwargs)\n",
    "    print(\"------\")\n",
    "    \n",
    "allfunctions(1,2,3)\n",
    "allfunctions(q=25)\n",
    "allfunctions(a=5,b=4,c=3)\n",
    "allfunctions(1,2,3,a=5,b=4,c=3)"
   ]
  },
  {
   "cell_type": "markdown",
   "metadata": {},
   "source": [
    "# Generator functions"
   ]
  },
  {
   "cell_type": "code",
   "execution_count": 100,
   "metadata": {},
   "outputs": [],
   "source": [
    "import random\n",
    "\n",
    "def generaSaludos(nombre, n=10):\n",
    "    q = []\n",
    "    for i in range(n):\n",
    "        icono = random.choice([\"🔥\",\"🗿\",\"⛱\"])\n",
    "        q.append(f\"{icono} {nombre}\")\n",
    "    return q\n",
    "    "
   ]
  },
  {
   "cell_type": "code",
   "execution_count": 104,
   "metadata": {},
   "outputs": [
    {
     "name": "stdout",
     "output_type": "stream",
     "text": [
      "['🔥 Pepe', '🗿 Pepe', '🔥 Pepe', '🗿 Pepe', '🗿 Pepe', '🗿 Pepe', '🗿 Pepe', '🔥 Pepe', '⛱ Pepe', '🔥 Pepe']\n",
      "FUEGO\n",
      "FUEGO\n",
      "FUEGO\n",
      "FUEGO\n"
     ]
    }
   ],
   "source": [
    "h = generaSaludos(\"Pepe\")\n",
    "print(h)\n",
    "for e in h:\n",
    "    if e[0]==\"🔥\":\n",
    "        print(\"FUEGO\")"
   ]
  },
  {
   "cell_type": "code",
   "execution_count": 109,
   "metadata": {},
   "outputs": [],
   "source": [
    "def generaSaludosGenerador(nombre, n=10):\n",
    "    for i in range(n):\n",
    "        icono = random.choice([\"🔥\",\"🗿\",\"⛱\"])\n",
    "        yield f\"{i} {icono} {nombre}\"\n",
    "    "
   ]
  },
  {
   "cell_type": "code",
   "execution_count": 110,
   "metadata": {},
   "outputs": [
    {
     "data": {
      "text/plain": [
       "['0 ⛱ Juan',\n",
       " '1 ⛱ Juan',\n",
       " '2 ⛱ Juan',\n",
       " '3 🔥 Juan',\n",
       " '4 🗿 Juan',\n",
       " '5 🔥 Juan',\n",
       " '6 🗿 Juan',\n",
       " '7 🔥 Juan',\n",
       " '8 🔥 Juan',\n",
       " '9 🗿 Juan']"
      ]
     },
     "execution_count": 110,
     "metadata": {},
     "output_type": "execute_result"
    }
   ],
   "source": [
    "list(generaSaludosGenerador(\"Juan\"))"
   ]
  },
  {
   "cell_type": "code",
   "execution_count": 116,
   "metadata": {},
   "outputs": [
    {
     "name": "stdout",
     "output_type": "stream",
     "text": [
      "0 ⛱ pepe\n",
      "1 🗿 pepe\n",
      "2 ⛱ pepe\n"
     ]
    },
    {
     "ename": "StopIteration",
     "evalue": "",
     "output_type": "error",
     "traceback": [
      "\u001b[0;31m---------------------------------------------------------------------------\u001b[0m",
      "\u001b[0;31mStopIteration\u001b[0m                             Traceback (most recent call last)",
      "\u001b[0;32m<ipython-input-116-ca4b386eaee1>\u001b[0m in \u001b[0;36m<module>\u001b[0;34m\u001b[0m\n\u001b[1;32m      3\u001b[0m \u001b[0mprint\u001b[0m\u001b[0;34m(\u001b[0m\u001b[0mnext\u001b[0m\u001b[0;34m(\u001b[0m\u001b[0mg\u001b[0m\u001b[0;34m)\u001b[0m\u001b[0;34m)\u001b[0m\u001b[0;34m\u001b[0m\u001b[0;34m\u001b[0m\u001b[0m\n\u001b[1;32m      4\u001b[0m \u001b[0mprint\u001b[0m\u001b[0;34m(\u001b[0m\u001b[0mnext\u001b[0m\u001b[0;34m(\u001b[0m\u001b[0mg\u001b[0m\u001b[0;34m)\u001b[0m\u001b[0;34m)\u001b[0m\u001b[0;34m\u001b[0m\u001b[0;34m\u001b[0m\u001b[0m\n\u001b[0;32m----> 5\u001b[0;31m \u001b[0mprint\u001b[0m\u001b[0;34m(\u001b[0m\u001b[0mnext\u001b[0m\u001b[0;34m(\u001b[0m\u001b[0mg\u001b[0m\u001b[0;34m)\u001b[0m\u001b[0;34m)\u001b[0m\u001b[0;34m\u001b[0m\u001b[0;34m\u001b[0m\u001b[0m\n\u001b[0m",
      "\u001b[0;31mStopIteration\u001b[0m: "
     ]
    }
   ],
   "source": [
    "g = generaSaludosGenerador(\"pepe\",3)\n",
    "print(next(g))\n",
    "print(next(g))\n",
    "print(next(g))\n",
    "print(next(g))"
   ]
  },
  {
   "cell_type": "code",
   "execution_count": 117,
   "metadata": {},
   "outputs": [
    {
     "data": {
      "text/plain": [
       "['0 🔥 pepe', '1 🗿 pepe', '2 🔥 pepe']"
      ]
     },
     "execution_count": 117,
     "metadata": {},
     "output_type": "execute_result"
    }
   ],
   "source": [
    "list(generaSaludosGenerador(\"pepe\",3))"
   ]
  },
  {
   "cell_type": "code",
   "execution_count": 119,
   "metadata": {},
   "outputs": [
    {
     "data": {
      "text/plain": [
       "range(0, 1000000000000000)"
      ]
     },
     "execution_count": 119,
     "metadata": {},
     "output_type": "execute_result"
    }
   ],
   "source": [
    "range(1000000000000000)"
   ]
  },
  {
   "cell_type": "code",
   "execution_count": 122,
   "metadata": {},
   "outputs": [
    {
     "name": "stdout",
     "output_type": "stream",
     "text": [
      "(1, 4)\n",
      "[(2, 5), (3, 6)]\n"
     ]
    }
   ],
   "source": [
    "#list(range(1000000000000000))\n",
    "q = zip([1,2,3],[4,5,6])\n",
    "print(next(q))\n",
    "print(list(q))"
   ]
  },
  {
   "cell_type": "markdown",
   "metadata": {},
   "source": [
    "# Function that returns a function"
   ]
  },
  {
   "cell_type": "code",
   "execution_count": 131,
   "metadata": {},
   "outputs": [
    {
     "data": {
      "text/plain": [
       "'Marinero de luces Pepe'"
      ]
     },
     "execution_count": 131,
     "metadata": {},
     "output_type": "execute_result"
    }
   ],
   "source": [
    "def saludador(nombre, micantante=\"maluma\"):\n",
    "    def maluma():\n",
    "        return \"Maluma baby \" + nombre\n",
    "    def pitbul():\n",
    "        return \"Dale \" + nombre\n",
    "    def pantoja():\n",
    "        return \"Marinero de luces \" + nombre\n",
    "\n",
    "    if micantante == \"maluma\":\n",
    "        return maluma\n",
    "    elif micantante == \"pitbul\":\n",
    "        return pitbul\n",
    "    else:\n",
    "        return pantoja\n",
    "\n",
    "saludador(\"Pepe\",\"asf\")()"
   ]
  },
  {
   "cell_type": "code",
   "execution_count": 132,
   "metadata": {},
   "outputs": [
    {
     "data": {
      "text/plain": [
       "'Marinero de luces Pepe'"
      ]
     },
     "execution_count": 132,
     "metadata": {},
     "output_type": "execute_result"
    }
   ],
   "source": [
    "fn = saludador(\"Pepe\",\"asf\")\n",
    "fn()"
   ]
  },
  {
   "cell_type": "code",
   "execution_count": null,
   "metadata": {},
   "outputs": [],
   "source": []
  },
  {
   "cell_type": "code",
   "execution_count": null,
   "metadata": {},
   "outputs": [],
   "source": []
  }
 ],
 "metadata": {
  "kernelspec": {
   "display_name": "Python 3",
   "language": "python",
   "name": "python3"
  },
  "language_info": {
   "codemirror_mode": {
    "name": "ipython",
    "version": 3
   },
   "file_extension": ".py",
   "mimetype": "text/x-python",
   "name": "python",
   "nbconvert_exporter": "python",
   "pygments_lexer": "ipython3",
   "version": "3.7.5"
  }
 },
 "nbformat": 4,
 "nbformat_minor": 2
}
