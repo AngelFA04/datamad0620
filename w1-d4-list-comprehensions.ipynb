{
 "cells": [
  {
   "cell_type": "code",
   "execution_count": 2,
   "metadata": {},
   "outputs": [],
   "source": [
    "staff = [\"⛱Amanda\",\"⛱Marc\",\"⛱Clara\",\"⛱Felipe\",\"⛱Blanca\",\"⛱Fran\",\"⛱Bego\",\"⛱Noelia\",\"⛱Ovi\"]"
   ]
  },
  {
   "cell_type": "code",
   "execution_count": 5,
   "metadata": {},
   "outputs": [
    {
     "data": {
      "text/plain": [
       "['🧴⛱Amanda',\n",
       " '🧴⛱Marc',\n",
       " '🧴⛱Clara',\n",
       " '🧴⛱Felipe',\n",
       " '🧴⛱Blanca',\n",
       " '🧴⛱Fran',\n",
       " '🧴⛱Bego',\n",
       " '🧴⛱Noelia',\n",
       " '🧴⛱Ovi']"
      ]
     },
     "execution_count": 5,
     "metadata": {},
     "output_type": "execute_result"
    }
   ],
   "source": [
    "playa_ready = [] \n",
    "for s in staff:\n",
    "    playa_ready.append(\"🧴\"+s)\n",
    "playa_ready "
   ]
  },
  {
   "cell_type": "code",
   "execution_count": 7,
   "metadata": {},
   "outputs": [
    {
     "data": {
      "text/plain": [
       "['🧴⛱Amanda',\n",
       " '🧴⛱Marc',\n",
       " '🧴⛱Clara',\n",
       " '🧴⛱Felipe',\n",
       " '🧴⛱Blanca',\n",
       " '🧴⛱Fran',\n",
       " '🧴⛱Bego',\n",
       " '🧴⛱Noelia',\n",
       " '🧴⛱Ovi']"
      ]
     },
     "execution_count": 7,
     "metadata": {},
     "output_type": "execute_result"
    }
   ],
   "source": [
    "[\"🧴\"+s for s in staff]"
   ]
  },
  {
   "cell_type": "code",
   "execution_count": 8,
   "metadata": {},
   "outputs": [
    {
     "data": {
      "text/plain": [
       "['🧴', '🧴', '🧴', '🧴', '🧴', '🧴', '🧴', '🧴', '🧴']"
      ]
     },
     "execution_count": 8,
     "metadata": {},
     "output_type": "execute_result"
    }
   ],
   "source": [
    "[\"🧴\" for s in staff]"
   ]
  },
  {
   "cell_type": "code",
   "execution_count": 9,
   "metadata": {},
   "outputs": [],
   "source": [
    "def conBici(ta):\n",
    "    if ta[-1] == \"a\":\n",
    "        return f\"🚲{ta}\"\n",
    "    return ta"
   ]
  },
  {
   "cell_type": "code",
   "execution_count": 14,
   "metadata": {},
   "outputs": [
    {
     "data": {
      "text/plain": [
       "['🚲⛱Amanda',\n",
       " '⛱Marc',\n",
       " '🚲⛱Clara',\n",
       " '⛱Felipe',\n",
       " '🚲⛱Blanca',\n",
       " '⛱Fran',\n",
       " '⛱Bego',\n",
       " '🚲⛱Noelia',\n",
       " '⛱Ovi']"
      ]
     },
     "execution_count": 14,
     "metadata": {},
     "output_type": "execute_result"
    }
   ],
   "source": [
    "[conBici(ta) for ta in staff]"
   ]
  },
  {
   "cell_type": "code",
   "execution_count": 16,
   "metadata": {},
   "outputs": [
    {
     "data": {
      "text/plain": [
       "['🚲🧴⛱Amanda',\n",
       " '🧴⛱Marc',\n",
       " '🚲🧴⛱Clara',\n",
       " '🧴⛱Felipe',\n",
       " '🚲🧴⛱Blanca',\n",
       " '🧴⛱Fran',\n",
       " '🧴⛱Bego',\n",
       " '🚲🧴⛱Noelia',\n",
       " '🧴⛱Ovi']"
      ]
     },
     "execution_count": 16,
     "metadata": {},
     "output_type": "execute_result"
    }
   ],
   "source": [
    "# Nested comprehension lists\n",
    "bicis = [conBici(e) for e in [\"🧴\"+s for s in staff]]\n",
    "bicis"
   ]
  },
  {
   "cell_type": "code",
   "execution_count": 18,
   "metadata": {},
   "outputs": [
    {
     "name": "stdout",
     "output_type": "stream",
     "text": [
      "🚲🧴⛱Amanda 🧴⛱Marc 🚲🧴⛱Clara 🧴⛱Felipe 🚲🧴⛱Blanca 🧴⛱Fran 🧴⛱Bego 🚲🧴⛱Noelia 🧴⛱Ovi\n"
     ]
    }
   ],
   "source": [
    "print(*bicis)"
   ]
  },
  {
   "cell_type": "code",
   "execution_count": 20,
   "metadata": {},
   "outputs": [
    {
     "data": {
      "text/plain": [
       "'🚲🧴⛱Amanda->🧴⛱Marc->🚲🧴⛱Clara->🧴⛱Felipe->🚲🧴⛱Blanca->🧴⛱Fran->🧴⛱Bego->🚲🧴⛱Noelia->🧴⛱Ovi'"
      ]
     },
     "execution_count": 20,
     "metadata": {},
     "output_type": "execute_result"
    }
   ],
   "source": [
    "\"->\".join([conBici(e) for e in [\"🧴\"+s for s in staff]])"
   ]
  },
  {
   "cell_type": "markdown",
   "metadata": {},
   "source": [
    "# Flatten"
   ]
  },
  {
   "cell_type": "code",
   "execution_count": 21,
   "metadata": {},
   "outputs": [
    {
     "data": {
      "text/plain": [
       "[1, 2, 3, 4, 5, 6, 7, 8, 9]"
      ]
     },
     "execution_count": 21,
     "metadata": {},
     "output_type": "execute_result"
    }
   ],
   "source": [
    "\n",
    "m = [[1,2,3],[4,5,6],[7,8,9]]\n",
    "q = []\n",
    "\n",
    "for e in m:\n",
    "    for k in e:\n",
    "        q.append(k)\n",
    "q\n",
    "\n",
    "\n"
   ]
  },
  {
   "cell_type": "code",
   "execution_count": 28,
   "metadata": {},
   "outputs": [
    {
     "data": {
      "text/plain": [
       "[1, 2, 3, 4, 5, 6, 7, 8, 9]"
      ]
     },
     "execution_count": 28,
     "metadata": {},
     "output_type": "execute_result"
    }
   ],
   "source": [
    "m = [[1,2,3],[4,5,6],[7,8,9]]\n",
    "\n",
    "q = [k for e in m for k in e]\n",
    "q"
   ]
  },
  {
   "cell_type": "code",
   "execution_count": 27,
   "metadata": {},
   "outputs": [
    {
     "data": {
      "text/plain": [
       "[(1, [[1, 2, 3], [4, 5, 6], [7, 8, 9]]),\n",
       " (2, [[1, 2, 3], [4, 5, 6], [7, 8, 9]]),\n",
       " (3, [[1, 2, 3], [4, 5, 6], [7, 8, 9]]),\n",
       " (4, [[1, 2, 3], [4, 5, 6], [7, 8, 9]]),\n",
       " (5, [[1, 2, 3], [4, 5, 6], [7, 8, 9]]),\n",
       " (6, [[1, 2, 3], [4, 5, 6], [7, 8, 9]]),\n",
       " (7, [[1, 2, 3], [4, 5, 6], [7, 8, 9]]),\n",
       " (8, [[1, 2, 3], [4, 5, 6], [7, 8, 9]]),\n",
       " (9, [[1, 2, 3], [4, 5, 6], [7, 8, 9]])]"
      ]
     },
     "execution_count": 27,
     "metadata": {},
     "output_type": "execute_result"
    }
   ],
   "source": [
    "[(k,m) for e in m for k in e]"
   ]
  },
  {
   "cell_type": "markdown",
   "metadata": {},
   "source": [
    "# Filtering"
   ]
  },
  {
   "cell_type": "code",
   "execution_count": 29,
   "metadata": {},
   "outputs": [
    {
     "data": {
      "text/plain": [
       "['🚲🧴⛱Amanda',\n",
       " '🧴⛱Marc',\n",
       " '🚲🧴⛱Clara',\n",
       " '🧴⛱Felipe',\n",
       " '🚲🧴⛱Blanca',\n",
       " '🧴⛱Fran',\n",
       " '🧴⛱Bego',\n",
       " '🚲🧴⛱Noelia',\n",
       " '🧴⛱Ovi']"
      ]
     },
     "execution_count": 29,
     "metadata": {},
     "output_type": "execute_result"
    }
   ],
   "source": [
    "bicis"
   ]
  },
  {
   "cell_type": "code",
   "execution_count": 30,
   "metadata": {},
   "outputs": [
    {
     "name": "stdout",
     "output_type": "stream",
     "text": [
      "🚲🧴⛱Amanda\n",
      "🚲🧴⛱Clara\n",
      "🚲🧴⛱Blanca\n",
      "🚲🧴⛱Noelia\n"
     ]
    }
   ],
   "source": [
    "for e in bicis:\n",
    "    if e[0] == \"🚲\":\n",
    "        print(e)"
   ]
  },
  {
   "cell_type": "code",
   "execution_count": 32,
   "metadata": {},
   "outputs": [
    {
     "data": {
      "text/plain": [
       "['🚲🧴⛱Amanda', '🚲🧴⛱Clara', '🚲🧴⛱Blanca', '🚲🧴⛱Noelia']"
      ]
     },
     "execution_count": 32,
     "metadata": {},
     "output_type": "execute_result"
    }
   ],
   "source": [
    "[e for e in bicis if e[0] == \"🚲\"]"
   ]
  },
  {
   "cell_type": "code",
   "execution_count": 33,
   "metadata": {},
   "outputs": [
    {
     "data": {
      "text/plain": [
       "[]"
      ]
     },
     "execution_count": 33,
     "metadata": {},
     "output_type": "execute_result"
    }
   ],
   "source": [
    "[e for e in bicis if False]"
   ]
  },
  {
   "cell_type": "code",
   "execution_count": 34,
   "metadata": {},
   "outputs": [
    {
     "data": {
      "text/plain": [
       "['🚲🧴⛱Amanda',\n",
       " '🧴⛱Marc',\n",
       " '🚲🧴⛱Clara',\n",
       " '🧴⛱Felipe',\n",
       " '🚲🧴⛱Blanca',\n",
       " '🧴⛱Fran',\n",
       " '🧴⛱Bego',\n",
       " '🚲🧴⛱Noelia',\n",
       " '🧴⛱Ovi']"
      ]
     },
     "execution_count": 34,
     "metadata": {},
     "output_type": "execute_result"
    }
   ],
   "source": [
    "[e for e in bicis if True]"
   ]
  },
  {
   "cell_type": "code",
   "execution_count": 51,
   "metadata": {},
   "outputs": [
    {
     "name": "stdout",
     "output_type": "stream",
     "text": [
      "True\n",
      "False\n",
      "True\n"
     ]
    }
   ],
   "source": [
    "def tiene(ta,item):\n",
    "    if [e for e in ta if e==item]:\n",
    "        return True\n",
    "    return False\n",
    "\n",
    "ta = '🚲🧴⛱Amanda'\n",
    "\n",
    "print(tiene(ta,\"🧴\"))\n",
    "print(tiene(ta,\"🚀\"))\n",
    "print(tiene(ta,\"🚲\"))"
   ]
  },
  {
   "cell_type": "code",
   "execution_count": 53,
   "metadata": {},
   "outputs": [
    {
     "data": {
      "text/plain": [
       "['🚲🧴⛱Amanda', '🚲🧴⛱Clara', '🚲🧴⛱Blanca', '🚲🧴⛱Noelia']"
      ]
     },
     "execution_count": 53,
     "metadata": {},
     "output_type": "execute_result"
    }
   ],
   "source": [
    "[ta for ta in bicis if tiene(ta,\"🚲\")]"
   ]
  },
  {
   "cell_type": "code",
   "execution_count": 62,
   "metadata": {},
   "outputs": [
    {
     "name": "stdout",
     "output_type": "stream",
     "text": [
      "['🚲']\n"
     ]
    },
    {
     "data": {
      "text/plain": [
       "['🚲🧴⛱Amanda', '🚲🧴⛱Clara', '🚲🧴⛱Blanca', '🚲🧴⛱Noelia']"
      ]
     },
     "execution_count": 62,
     "metadata": {},
     "output_type": "execute_result"
    }
   ],
   "source": [
    "def tiene(ta,item):\n",
    "    return [e for e in ta if e==item]\n",
    "print(tiene(ta,\"🚲\"))\n",
    "[ta for ta in bicis if tiene(ta,\"🚲\")]"
   ]
  },
  {
   "cell_type": "code",
   "execution_count": 61,
   "metadata": {},
   "outputs": [
    {
     "data": {
      "text/plain": [
       "['as🤔😍']"
      ]
     },
     "execution_count": 61,
     "metadata": {},
     "output_type": "execute_result"
    }
   ],
   "source": [
    "h=[\"ho😍la\",\"go😍la\",\"as🤔😍\",\"asdfa🤔\"]\n",
    "[e for e in h if (\"🤔\" in e) and (\"😍\" in e)]"
   ]
  },
  {
   "cell_type": "markdown",
   "metadata": {},
   "source": [
    "# Comprehension lists with dicts"
   ]
  },
  {
   "cell_type": "code",
   "execution_count": 64,
   "metadata": {},
   "outputs": [],
   "source": [
    "hoteles = [\n",
    "    {\"name\":\"NH\", \"stars\":4, \"puntuacion\":[5,4,4]},\n",
    "    {\"name\":\"Hilton\", \"stars\":5, \"puntuacion\":[4,3,4]},\n",
    "    {\"name\":\"Pension Lola\", \"stars\":1, \"puntuacion\":[2,3,2]},\n",
    "    {\"name\":\"Holiday Inn\", \"stars\":3, \"puntuacion\":[4,3,1]}\n",
    "]"
   ]
  },
  {
   "cell_type": "code",
   "execution_count": 65,
   "metadata": {},
   "outputs": [
    {
     "data": {
      "text/plain": [
       "[[5, 4, 4], [4, 3, 4], [2, 3, 2], [4, 3, 1]]"
      ]
     },
     "execution_count": 65,
     "metadata": {},
     "output_type": "execute_result"
    }
   ],
   "source": [
    "[h[\"puntuacion\"] for h in hoteles]"
   ]
  },
  {
   "cell_type": "code",
   "execution_count": 68,
   "metadata": {},
   "outputs": [
    {
     "data": {
      "text/plain": [
       "3.25"
      ]
     },
     "execution_count": 68,
     "metadata": {},
     "output_type": "execute_result"
    }
   ],
   "source": [
    "def mean(l):\n",
    "    return sum(l)/len(l)\n",
    "mean([mean(h[\"puntuacion\"]) for h in hoteles])"
   ]
  },
  {
   "cell_type": "code",
   "execution_count": 69,
   "metadata": {},
   "outputs": [
    {
     "data": {
      "text/plain": [
       "[('NH', 4.333333333333333),\n",
       " ('Hilton', 3.6666666666666665),\n",
       " ('Pension Lola', 2.3333333333333335),\n",
       " ('Holiday Inn', 2.6666666666666665)]"
      ]
     },
     "execution_count": 69,
     "metadata": {},
     "output_type": "execute_result"
    }
   ],
   "source": [
    "[(h[\"name\"], mean(h[\"puntuacion\"])) for h in hoteles]"
   ]
  },
  {
   "cell_type": "code",
   "execution_count": 70,
   "metadata": {},
   "outputs": [
    {
     "data": {
      "text/plain": [
       "[{'name': 'NH', 'mean': 4.333333333333333},\n",
       " {'name': 'Hilton', 'mean': 3.6666666666666665},\n",
       " {'name': 'Pension Lola', 'mean': 2.3333333333333335},\n",
       " {'name': 'Holiday Inn', 'mean': 2.6666666666666665}]"
      ]
     },
     "execution_count": 70,
     "metadata": {},
     "output_type": "execute_result"
    }
   ],
   "source": [
    "[{\"name\":h[\"name\"], \"mean\":mean(h[\"puntuacion\"])} for h in hoteles]"
   ]
  },
  {
   "cell_type": "code",
   "execution_count": 72,
   "metadata": {},
   "outputs": [
    {
     "data": {
      "text/plain": [
       "[{'name': 'NH',\n",
       "  'stars': 4,\n",
       "  'puntuacion': [5, 4, 4],\n",
       "  'media': 4.333333333333333},\n",
       " {'name': 'Hilton',\n",
       "  'stars': 5,\n",
       "  'puntuacion': [4, 3, 4],\n",
       "  'media': 3.6666666666666665},\n",
       " {'name': 'Pension Lola',\n",
       "  'stars': 1,\n",
       "  'puntuacion': [2, 3, 2],\n",
       "  'media': 2.3333333333333335},\n",
       " {'name': 'Holiday Inn',\n",
       "  'stars': 3,\n",
       "  'puntuacion': [4, 3, 1],\n",
       "  'media': 2.6666666666666665}]"
      ]
     },
     "execution_count": 72,
     "metadata": {},
     "output_type": "execute_result"
    }
   ],
   "source": [
    "[{**h,\"media\":mean(h[\"puntuacion\"])} for h in hoteles]"
   ]
  },
  {
   "cell_type": "code",
   "execution_count": 73,
   "metadata": {},
   "outputs": [
    {
     "name": "stdout",
     "output_type": "stream",
     "text": [
      "[1, 2, 3] [1, 2, 3, 4]\n"
     ]
    }
   ],
   "source": [
    "a = [1,2,3]\n",
    "b = [*a,4]\n",
    "print(a,b)"
   ]
  },
  {
   "cell_type": "code",
   "execution_count": 74,
   "metadata": {},
   "outputs": [
    {
     "name": "stdout",
     "output_type": "stream",
     "text": [
      "{'name': 'NH', 'stars': 4, 'puntuacion': [5, 4, 4]} {'name': 'NH', 'stars': 4, 'puntuacion': [5, 4, 4], 'media': 3}\n"
     ]
    }
   ],
   "source": [
    "a = {\"name\":\"NH\", \"stars\":4, \"puntuacion\":[5,4,4]}\n",
    "b = {**a, \"media\":3}\n",
    "print(a,b)"
   ]
  },
  {
   "cell_type": "code",
   "execution_count": 78,
   "metadata": {},
   "outputs": [
    {
     "data": {
      "text/plain": [
       "[['NH', 4.333333333333333], ['Hilton', 3.6666666666666665]]"
      ]
     },
     "execution_count": 78,
     "metadata": {},
     "output_type": "execute_result"
    }
   ],
   "source": [
    "# Nombres de los hoteles con mas de 3 estrellas y su puntuacion media\n",
    "q = [[h[\"name\"],mean(h[\"puntuacion\"])] for h in hoteles if h[\"stars\"] > 3]\n",
    "q"
   ]
  },
  {
   "cell_type": "code",
   "execution_count": 80,
   "metadata": {},
   "outputs": [
    {
     "data": {
      "text/plain": [
       "[4.333333333333333, 3.6666666666666665]"
      ]
     },
     "execution_count": 80,
     "metadata": {},
     "output_type": "execute_result"
    }
   ],
   "source": [
    "[e[1] for e in q]"
   ]
  },
  {
   "cell_type": "code",
   "execution_count": 79,
   "metadata": {},
   "outputs": [
    {
     "data": {
      "text/plain": [
       "4.0"
      ]
     },
     "execution_count": 79,
     "metadata": {},
     "output_type": "execute_result"
    }
   ],
   "source": [
    "mean([e[1] for e in q])"
   ]
  },
  {
   "cell_type": "code",
   "execution_count": null,
   "metadata": {},
   "outputs": [],
   "source": []
  },
  {
   "cell_type": "markdown",
   "metadata": {},
   "source": [
    "# Dict comprehensions"
   ]
  },
  {
   "cell_type": "code",
   "execution_count": 83,
   "metadata": {},
   "outputs": [],
   "source": [
    "hoteles = [\n",
    "    {\"name\":\"NH\", \"stars\":4, \"puntuacion\":[5,4,4]},\n",
    "    {\"name\":\"Hilton\", \"stars\":5, \"puntuacion\":[4,3,4]},\n",
    "    {\"name\":\"Pension Lola\", \"stars\":1, \"puntuacion\":[2,3,2]},\n",
    "    {\"name\":\"Pension Lola\", \"stars\":2, \"puntuacion\":[5,5,5]},\n",
    "    {\"name\":\"Holiday Inn\", \"stars\":3, \"puntuacion\":[4,3,1]}\n",
    "]"
   ]
  },
  {
   "cell_type": "code",
   "execution_count": 84,
   "metadata": {},
   "outputs": [
    {
     "data": {
      "text/plain": [
       "[('NH', 4.333333333333333),\n",
       " ('Hilton', 3.6666666666666665),\n",
       " ('Pension Lola', 2.3333333333333335),\n",
       " ('Pension Lola', 5.0),\n",
       " ('Holiday Inn', 2.6666666666666665)]"
      ]
     },
     "execution_count": 84,
     "metadata": {},
     "output_type": "execute_result"
    }
   ],
   "source": [
    "[(h[\"name\"], mean(h[\"puntuacion\"])) for h in hoteles]"
   ]
  },
  {
   "cell_type": "code",
   "execution_count": 85,
   "metadata": {},
   "outputs": [
    {
     "data": {
      "text/plain": [
       "{'NH': 4.333333333333333,\n",
       " 'Hilton': 3.6666666666666665,\n",
       " 'Pension Lola': 5.0,\n",
       " 'Holiday Inn': 2.6666666666666665}"
      ]
     },
     "execution_count": 85,
     "metadata": {},
     "output_type": "execute_result"
    }
   ],
   "source": [
    "{h[\"name\"]:mean(h[\"puntuacion\"]) for h in hoteles}"
   ]
  },
  {
   "cell_type": "code",
   "execution_count": 87,
   "metadata": {},
   "outputs": [
    {
     "data": {
      "text/plain": [
       "{'NH': 4.333333333333333, 'Hilton': 3.6666666666666665}"
      ]
     },
     "execution_count": 87,
     "metadata": {},
     "output_type": "execute_result"
    }
   ],
   "source": [
    "s = {h[\"name\"]:mean(h[\"puntuacion\"]) for h in hoteles if h[\"stars\"] > 3}\n",
    "s"
   ]
  },
  {
   "cell_type": "code",
   "execution_count": 88,
   "metadata": {},
   "outputs": [
    {
     "data": {
      "text/plain": [
       "4.333333333333333"
      ]
     },
     "execution_count": 88,
     "metadata": {},
     "output_type": "execute_result"
    }
   ],
   "source": [
    "s[\"NH\"]"
   ]
  },
  {
   "cell_type": "code",
   "execution_count": null,
   "metadata": {},
   "outputs": [],
   "source": []
  }
 ],
 "metadata": {
  "kernelspec": {
   "display_name": "Python 3",
   "language": "python",
   "name": "python3"
  },
  "language_info": {
   "codemirror_mode": {
    "name": "ipython",
    "version": 3
   },
   "file_extension": ".py",
   "mimetype": "text/x-python",
   "name": "python",
   "nbconvert_exporter": "python",
   "pygments_lexer": "ipython3",
   "version": "3.7.5"
  }
 },
 "nbformat": 4,
 "nbformat_minor": 2
}
