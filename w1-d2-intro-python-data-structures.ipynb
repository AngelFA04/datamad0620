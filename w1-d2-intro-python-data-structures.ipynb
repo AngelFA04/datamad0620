{
 "cells": [
  {
   "cell_type": "markdown",
   "metadata": {},
   "source": [
    "# Python Data Types"
   ]
  },
  {
   "cell_type": "code",
   "execution_count": 7,
   "metadata": {},
   "outputs": [],
   "source": [
    "a = \"Pepe\""
   ]
  },
  {
   "cell_type": "code",
   "execution_count": 14,
   "metadata": {},
   "outputs": [
    {
     "name": "stdout",
     "output_type": "stream",
     "text": [
      "Pepe3\n"
     ]
    }
   ],
   "source": [
    "print(a+str(3)) # type casting"
   ]
  },
  {
   "cell_type": "code",
   "execution_count": 16,
   "metadata": {},
   "outputs": [
    {
     "name": "stdout",
     "output_type": "stream",
     "text": [
      "223\n"
     ]
    }
   ],
   "source": [
    "x = \"222\"\n",
    "y = 1\n",
    "print(int(x)+y)"
   ]
  },
  {
   "cell_type": "code",
   "execution_count": 18,
   "metadata": {},
   "outputs": [
    {
     "ename": "ValueError",
     "evalue": "invalid literal for int() with base 10: 'pepe222'",
     "output_type": "error",
     "traceback": [
      "\u001b[0;31m---------------------------------------------------------------------------\u001b[0m",
      "\u001b[0;31mValueError\u001b[0m                                Traceback (most recent call last)",
      "\u001b[0;32m<ipython-input-18-2be3756eca27>\u001b[0m in \u001b[0;36m<module>\u001b[0;34m\u001b[0m\n\u001b[0;32m----> 1\u001b[0;31m \u001b[0mint\u001b[0m\u001b[0;34m(\u001b[0m\u001b[0;34m\"pepe222\"\u001b[0m\u001b[0;34m)\u001b[0m\u001b[0;34m\u001b[0m\u001b[0;34m\u001b[0m\u001b[0m\n\u001b[0m",
      "\u001b[0;31mValueError\u001b[0m: invalid literal for int() with base 10: 'pepe222'"
     ]
    }
   ],
   "source": [
    "int(\"pepe222\")"
   ]
  },
  {
   "cell_type": "code",
   "execution_count": 22,
   "metadata": {},
   "outputs": [
    {
     "name": "stdout",
     "output_type": "stream",
     "text": [
      "<class 'str'>\n",
      "<class 'int'>\n"
     ]
    }
   ],
   "source": [
    "a = \"Hola\"\n",
    "b = 25\n",
    "print(type(a))\n",
    "print(type(b))"
   ]
  },
  {
   "cell_type": "code",
   "execution_count": 23,
   "metadata": {},
   "outputs": [
    {
     "name": "stdout",
     "output_type": "stream",
     "text": [
      "3 <class 'int'>\n",
      "Hola <class 'str'>\n"
     ]
    }
   ],
   "source": [
    "# Dynamic type\n",
    "a = 3\n",
    "print(a, type(a))\n",
    "a = \"Hola\"\n",
    "print(a, type(a))"
   ]
  },
  {
   "cell_type": "code",
   "execution_count": null,
   "metadata": {},
   "outputs": [],
   "source": [
    "#c/c++ -> int a = 4;"
   ]
  },
  {
   "cell_type": "code",
   "execution_count": 41,
   "metadata": {},
   "outputs": [
    {
     "name": "stdout",
     "output_type": "stream",
     "text": [
      "<class 'int'>\n",
      "<class 'float'>\n",
      "<class 'bool'>\n",
      "<class 'str'>\n",
      "<class 'list'>\n",
      "<class 'tuple'>\n",
      "<class 'dict'>\n",
      "<class 'set'>\n",
      "<class 'NoneType'>\n",
      "<class 'builtin_function_or_method'>\n",
      "<class 'type'>\n"
     ]
    }
   ],
   "source": [
    "# Integer\n",
    "x = 4\n",
    "print(type(x))\n",
    "\n",
    "# Float\n",
    "x = 4.3\n",
    "print(type(x))\n",
    "\n",
    "# Boolean\n",
    "x = False\n",
    "print(type(x))\n",
    "\n",
    "# String\n",
    "x = \"Hola\"\n",
    "print(type(x))\n",
    "\n",
    "# Lists\n",
    "x = []\n",
    "print(type(x))\n",
    "\n",
    "# Tuples\n",
    "x = ()\n",
    "print(type(x))\n",
    "\n",
    "# Dicts\n",
    "x = {}\n",
    "print(type(x))\n",
    "\n",
    "# Set\n",
    "x = {()}\n",
    "print(type(x))\n",
    "\n",
    "# None\n",
    "x = None\n",
    "print(type(x))\n",
    "\n",
    "# Function\n",
    "x = print\n",
    "print(type(x))\n",
    "\n",
    "# Class\n",
    "class x: \n",
    "    pass\n",
    "print(type(x))"
   ]
  },
  {
   "cell_type": "markdown",
   "metadata": {},
   "source": [
    "# Lists"
   ]
  },
  {
   "cell_type": "code",
   "execution_count": 42,
   "metadata": {},
   "outputs": [
    {
     "name": "stdout",
     "output_type": "stream",
     "text": [
      "1 2 3\n"
     ]
    }
   ],
   "source": [
    "a1 = 1\n",
    "a2 = 2\n",
    "a3 = 3\n",
    "print(a1,a2,a3)"
   ]
  },
  {
   "cell_type": "code",
   "execution_count": 56,
   "metadata": {},
   "outputs": [
    {
     "name": "stdout",
     "output_type": "stream",
     "text": [
      "[1, 2, 3]\n"
     ]
    }
   ],
   "source": [
    "a = [1,2,3]\n",
    "print(a)"
   ]
  },
  {
   "cell_type": "code",
   "execution_count": 59,
   "metadata": {},
   "outputs": [
    {
     "name": "stdout",
     "output_type": "stream",
     "text": [
      "['hola', 'que', 'tal', 4, True]\n"
     ]
    }
   ],
   "source": [
    "a = [\"hola\",\"que\",\"tal\",4, True]\n",
    "print(a)"
   ]
  },
  {
   "cell_type": "code",
   "execution_count": 46,
   "metadata": {},
   "outputs": [
    {
     "data": {
      "text/plain": [
       "'que'"
      ]
     },
     "execution_count": 46,
     "metadata": {},
     "output_type": "execute_result"
    }
   ],
   "source": [
    "a[1]"
   ]
  },
  {
   "cell_type": "code",
   "execution_count": 1,
   "metadata": {},
   "outputs": [
    {
     "ename": "NameError",
     "evalue": "name 'a' is not defined",
     "output_type": "error",
     "traceback": [
      "\u001b[0;31m---------------------------------------------------------------------------\u001b[0m",
      "\u001b[0;31mNameError\u001b[0m                                 Traceback (most recent call last)",
      "\u001b[0;32m<ipython-input-1-1a2e6ec5f1e3>\u001b[0m in \u001b[0;36m<module>\u001b[0;34m\u001b[0m\n\u001b[0;32m----> 1\u001b[0;31m \u001b[0mlen\u001b[0m\u001b[0;34m(\u001b[0m\u001b[0ma\u001b[0m\u001b[0;34m)\u001b[0m\u001b[0;34m\u001b[0m\u001b[0;34m\u001b[0m\u001b[0m\n\u001b[0m",
      "\u001b[0;31mNameError\u001b[0m: name 'a' is not defined"
     ]
    }
   ],
   "source": [
    "len(a)"
   ]
  },
  {
   "cell_type": "code",
   "execution_count": 57,
   "metadata": {},
   "outputs": [
    {
     "name": "stdout",
     "output_type": "stream",
     "text": [
      "[1, 2, 3]\n",
      "[1, 2, 3, 'Pepe']\n"
     ]
    }
   ],
   "source": [
    "a=[1,2,3]\n",
    "print(a)\n",
    "a.append(\"Pepe\")\n",
    "print(a)"
   ]
  },
  {
   "cell_type": "code",
   "execution_count": 3,
   "metadata": {},
   "outputs": [
    {
     "data": {
      "text/plain": [
       "1073741824.0"
      ]
     },
     "execution_count": 3,
     "metadata": {},
     "output_type": "execute_result"
    }
   ],
   "source": [
    "a = 40000000000005283475290384752039845\n",
    "\n",
    "\n",
    "# int64 bits = 8 Bytes (8 bits = 1 byte)\n",
    "# 1024 bytes = 1 KB\n",
    "# 1024 Kb = 1 Megabyte\n",
    "# 1024 Mb = 1 Gb\n",
    "\n",
    "8*1024*1024*1024 / 8"
   ]
  },
  {
   "cell_type": "code",
   "execution_count": 8,
   "metadata": {},
   "outputs": [
    {
     "name": "stdout",
     "output_type": "stream",
     "text": [
      "Pepe\n",
      "Marta\n",
      "Ana\n"
     ]
    }
   ],
   "source": [
    "# Iterar una lista\n",
    "nombres = [\"Pepe\",\"Marta\",\"Ana\"]\n",
    "\n",
    "for n in nombres:\n",
    "    print(n)"
   ]
  },
  {
   "cell_type": "code",
   "execution_count": 16,
   "metadata": {},
   "outputs": [
    {
     "name": "stdout",
     "output_type": "stream",
     "text": [
      "['Juan', 'Carlos']\n",
      "Juan\n",
      "Carlos\n",
      "['David', 'Garcia']\n",
      "David\n",
      "Garcia\n",
      "['Ana', 'Garcia']\n",
      "Ana\n",
      "Garcia\n"
     ]
    }
   ],
   "source": [
    "alumnos = [[\"Juan\",\"Carlos\"],[\"David\",\"Garcia\"],[\"Ana\",\"Garcia\"]]\n",
    "#print(alumnos[0][1])\n",
    "\n",
    "for x in alumnos:\n",
    "    print(x)\n",
    "    for y in x:\n",
    "        print(y)"
   ]
  },
  {
   "cell_type": "code",
   "execution_count": 19,
   "metadata": {},
   "outputs": [
    {
     "name": "stdout",
     "output_type": "stream",
     "text": [
      "1 [1, 2, 3, 4, 5, 6]\n",
      "2 [1, 2, 3, 4, 5, 6]\n",
      "3 [1, 2, 3, 4, 5, 6]\n",
      "4 [1, 2, 3, 4, 5, 6]\n",
      "5 [1, 2, 3, 4, 5, 6]\n",
      "6 [1, 2, 3, 4, 5, 6]\n"
     ]
    }
   ],
   "source": [
    "a = [1,2,3]\n",
    "b = [4,5,6]\n",
    "\n",
    "c = a+b\n",
    "\n",
    "for e in c:\n",
    "    print(e, c)"
   ]
  },
  {
   "cell_type": "code",
   "execution_count": 27,
   "metadata": {},
   "outputs": [
    {
     "name": "stdout",
     "output_type": "stream",
     "text": [
      "['Hola', 'Hola', 'Hola', 'Hola', 'Hola']\n",
      "Hola🔥Hola🔥Hola🔥Hola🔥Hola\n",
      "<class 'str'>\n"
     ]
    }
   ],
   "source": [
    "m = [\"Hola\"]\n",
    "\n",
    "q = m*5\n",
    "print(q)\n",
    "\n",
    "z = \"🔥\".join(q)\n",
    "print(z)\n",
    "print(type(z))"
   ]
  },
  {
   "cell_type": "code",
   "execution_count": 30,
   "metadata": {},
   "outputs": [
    {
     "name": "stdout",
     "output_type": "stream",
     "text": [
      "[1, 2, 3, 4] ['1', '2', '3', '4']\n"
     ]
    },
    {
     "data": {
      "text/plain": [
       "'1-2-3-4'"
      ]
     },
     "execution_count": 30,
     "metadata": {},
     "output_type": "execute_result"
    }
   ],
   "source": [
    "m=[1,2,3,4]\n",
    "q=[]\n",
    "\n",
    "for e in m:\n",
    "    q.append(str(e))\n",
    "\n",
    "print(m,q)\n",
    "    \n",
    "'-'.join(q)"
   ]
  },
  {
   "cell_type": "code",
   "execution_count": 35,
   "metadata": {},
   "outputs": [
    {
     "name": "stdout",
     "output_type": "stream",
     "text": [
      "Marta\n",
      "Ana\n",
      "Laura\n",
      "0 Marta\n",
      "1 Ana\n",
      "2 Laura\n"
     ]
    }
   ],
   "source": [
    "n = [\"Marta\",\"Ana\",\"Laura\"]\n",
    "\n",
    "for e in n:\n",
    "    print(e)\n",
    "\n",
    "# Index iteration\n",
    "for i in range(len(n)):\n",
    "    print(i,n[i])\n"
   ]
  },
  {
   "cell_type": "code",
   "execution_count": 39,
   "metadata": {},
   "outputs": [
    {
     "data": {
      "text/plain": [
       "[0, 1, 2, 3, 4]"
      ]
     },
     "execution_count": 39,
     "metadata": {},
     "output_type": "execute_result"
    }
   ],
   "source": [
    "list(range(5))"
   ]
  },
  {
   "cell_type": "code",
   "execution_count": 47,
   "metadata": {},
   "outputs": [
    {
     "name": "stdout",
     "output_type": "stream",
     "text": [
      "Pepe\n"
     ]
    },
    {
     "ename": "IndexError",
     "evalue": "list index out of range",
     "output_type": "error",
     "traceback": [
      "\u001b[0;31m---------------------------------------------------------------------------\u001b[0m",
      "\u001b[0;31mIndexError\u001b[0m                                Traceback (most recent call last)",
      "\u001b[0;32m<ipython-input-47-07c4f8d1640e>\u001b[0m in \u001b[0;36m<module>\u001b[0;34m\u001b[0m\n\u001b[1;32m      1\u001b[0m \u001b[0mn\u001b[0m \u001b[0;34m=\u001b[0m \u001b[0;34m[\u001b[0m\u001b[0;34m\"Marta\"\u001b[0m\u001b[0;34m,\u001b[0m\u001b[0;34m\"Ana\"\u001b[0m\u001b[0;34m,\u001b[0m\u001b[0;34m\"Laura\"\u001b[0m\u001b[0;34m,\u001b[0m\u001b[0;34m\"Pepe\"\u001b[0m\u001b[0;34m]\u001b[0m\u001b[0;34m\u001b[0m\u001b[0;34m\u001b[0m\u001b[0m\n\u001b[1;32m      2\u001b[0m \u001b[0mprint\u001b[0m\u001b[0;34m(\u001b[0m\u001b[0mn\u001b[0m\u001b[0;34m[\u001b[0m\u001b[0;34m-\u001b[0m\u001b[0;36m1\u001b[0m\u001b[0;34m]\u001b[0m\u001b[0;34m)\u001b[0m\u001b[0;34m\u001b[0m\u001b[0;34m\u001b[0m\u001b[0m\n\u001b[0;32m----> 3\u001b[0;31m \u001b[0mprint\u001b[0m\u001b[0;34m(\u001b[0m\u001b[0mn\u001b[0m\u001b[0;34m[\u001b[0m\u001b[0;34m-\u001b[0m\u001b[0;36m5\u001b[0m\u001b[0;34m]\u001b[0m\u001b[0;34m)\u001b[0m\u001b[0;34m\u001b[0m\u001b[0;34m\u001b[0m\u001b[0m\n\u001b[0m",
      "\u001b[0;31mIndexError\u001b[0m: list index out of range"
     ]
    }
   ],
   "source": [
    "n = [\"Marta\",\"Ana\",\"Laura\",\"Pepe\"]\n",
    "print(n[-1])\n",
    "print(n[-5])"
   ]
  },
  {
   "cell_type": "code",
   "execution_count": null,
   "metadata": {},
   "outputs": [],
   "source": []
  },
  {
   "cell_type": "markdown",
   "metadata": {},
   "source": [
    "# Tuples"
   ]
  },
  {
   "cell_type": "code",
   "execution_count": 57,
   "metadata": {},
   "outputs": [
    {
     "name": "stdout",
     "output_type": "stream",
     "text": [
      "((1, 2), (2, 3), (3, 4)) <class 'tuple'>\n"
     ]
    }
   ],
   "source": [
    "a = ((1,2),(2,3),(3,4))\n",
    "print(a, type(a))"
   ]
  },
  {
   "cell_type": "code",
   "execution_count": 59,
   "metadata": {},
   "outputs": [
    {
     "name": "stdout",
     "output_type": "stream",
     "text": [
      "1 2\n",
      "2 3\n",
      "3 4\n"
     ]
    }
   ],
   "source": [
    "for e in a:\n",
    "    print(e[0],e[1])"
   ]
  },
  {
   "cell_type": "code",
   "execution_count": 60,
   "metadata": {},
   "outputs": [
    {
     "ename": "AttributeError",
     "evalue": "'tuple' object has no attribute 'append'",
     "output_type": "error",
     "traceback": [
      "\u001b[0;31m---------------------------------------------------------------------------\u001b[0m",
      "\u001b[0;31mAttributeError\u001b[0m                            Traceback (most recent call last)",
      "\u001b[0;32m<ipython-input-60-f6f3878f1986>\u001b[0m in \u001b[0;36m<module>\u001b[0;34m\u001b[0m\n\u001b[1;32m      1\u001b[0m \u001b[0ma\u001b[0m \u001b[0;34m=\u001b[0m \u001b[0;34m(\u001b[0m\u001b[0;36m1\u001b[0m\u001b[0;34m,\u001b[0m\u001b[0;36m2\u001b[0m\u001b[0;34m,\u001b[0m\u001b[0;36m3\u001b[0m\u001b[0;34m)\u001b[0m\u001b[0;34m\u001b[0m\u001b[0;34m\u001b[0m\u001b[0m\n\u001b[0;32m----> 2\u001b[0;31m \u001b[0ma\u001b[0m\u001b[0;34m.\u001b[0m\u001b[0mappend\u001b[0m\u001b[0;34m(\u001b[0m\u001b[0;36m5\u001b[0m\u001b[0;34m)\u001b[0m\u001b[0;34m\u001b[0m\u001b[0;34m\u001b[0m\u001b[0m\n\u001b[0m",
      "\u001b[0;31mAttributeError\u001b[0m: 'tuple' object has no attribute 'append'"
     ]
    }
   ],
   "source": [
    "a = (1,2,3)\n",
    "a.append(5)"
   ]
  },
  {
   "cell_type": "code",
   "execution_count": 61,
   "metadata": {},
   "outputs": [
    {
     "data": {
      "text/plain": [
       "(1, 2, 3)"
      ]
     },
     "execution_count": 61,
     "metadata": {},
     "output_type": "execute_result"
    }
   ],
   "source": [
    "tuple([1,2,3])"
   ]
  },
  {
   "cell_type": "code",
   "execution_count": 62,
   "metadata": {},
   "outputs": [
    {
     "data": {
      "text/plain": [
       "[1, 2, 3]"
      ]
     },
     "execution_count": 62,
     "metadata": {},
     "output_type": "execute_result"
    }
   ],
   "source": [
    "list((1,2,3))"
   ]
  },
  {
   "cell_type": "code",
   "execution_count": 64,
   "metadata": {},
   "outputs": [
    {
     "data": {
      "text/plain": [
       "[1, 2, 3, 5]"
      ]
     },
     "execution_count": 64,
     "metadata": {},
     "output_type": "execute_result"
    }
   ],
   "source": [
    "a = (1,2,3)\n",
    "b = list(a)\n",
    "b.append(5)\n",
    "b"
   ]
  },
  {
   "cell_type": "code",
   "execution_count": 65,
   "metadata": {},
   "outputs": [
    {
     "data": {
      "text/plain": [
       "5"
      ]
     },
     "execution_count": 65,
     "metadata": {},
     "output_type": "execute_result"
    }
   ],
   "source": [
    "len((1,2,3,4,5))"
   ]
  },
  {
   "cell_type": "code",
   "execution_count": null,
   "metadata": {},
   "outputs": [],
   "source": []
  },
  {
   "cell_type": "markdown",
   "metadata": {},
   "source": [
    "# Special ops"
   ]
  },
  {
   "cell_type": "code",
   "execution_count": 66,
   "metadata": {},
   "outputs": [
    {
     "name": "stdout",
     "output_type": "stream",
     "text": [
      "Juan\n",
      "Pepe\n",
      "Marta\n"
     ]
    }
   ],
   "source": [
    "nombres = [\"Juan\",\"Pepe\",\"Marta\"]\n",
    "\n",
    "for n in nombres:\n",
    "    print(n)"
   ]
  },
  {
   "cell_type": "code",
   "execution_count": 68,
   "metadata": {},
   "outputs": [
    {
     "data": {
      "text/plain": [
       "[(0, 'Juan'), (1, 'Pepe'), (2, 'Marta')]"
      ]
     },
     "execution_count": 68,
     "metadata": {},
     "output_type": "execute_result"
    }
   ],
   "source": [
    "list(enumerate(nombres))"
   ]
  },
  {
   "cell_type": "code",
   "execution_count": 70,
   "metadata": {},
   "outputs": [
    {
     "name": "stdout",
     "output_type": "stream",
     "text": [
      "(0, 'Juan')\n",
      "(1, 'Pepe')\n",
      "(2, 'Marta')\n"
     ]
    }
   ],
   "source": [
    "for n in enumerate(nombres):\n",
    "    print(n)"
   ]
  },
  {
   "cell_type": "code",
   "execution_count": 71,
   "metadata": {},
   "outputs": [
    {
     "name": "stdout",
     "output_type": "stream",
     "text": [
      "0 Juan\n",
      "1 Pepe\n",
      "2 Marta\n"
     ]
    }
   ],
   "source": [
    "for n in enumerate(nombres):\n",
    "    print(n[0],n[1])"
   ]
  },
  {
   "cell_type": "code",
   "execution_count": 75,
   "metadata": {},
   "outputs": [
    {
     "name": "stdout",
     "output_type": "stream",
     "text": [
      "0 Juan\n",
      "1 Pepe\n",
      "2 Marta\n"
     ]
    }
   ],
   "source": [
    "for i,e in enumerate(nombres):\n",
    "    print(i,e)"
   ]
  },
  {
   "cell_type": "code",
   "execution_count": 84,
   "metadata": {},
   "outputs": [
    {
     "name": "stdout",
     "output_type": "stream",
     "text": [
      "nombre Juan\n",
      "apellido1 Garcia\n",
      "apellido2 Perez\n"
     ]
    }
   ],
   "source": [
    "x = [(\"Juan\",\"Garcia\",\"Perez\")]\n",
    "\n",
    "for nombre, apellido1, apellido2 in x:\n",
    "    print(\"nombre\", nombre)\n",
    "    print(\"apellido1\", apellido1)\n",
    "    print(\"apellido2\", apellido2)"
   ]
  },
  {
   "cell_type": "code",
   "execution_count": 85,
   "metadata": {},
   "outputs": [
    {
     "name": "stdout",
     "output_type": "stream",
     "text": [
      "👨\n",
      "hola 0\n",
      "👨\n",
      "1 Pepe\n",
      "👨\n",
      "hola 2\n"
     ]
    }
   ],
   "source": [
    "nombres = [\"Juan\",\"Pepe\",\"Marta\"]\n",
    "\n",
    "for i,e in enumerate(nombres):\n",
    "    print(\"👨\")\n",
    "    if e == \"Pepe\":\n",
    "        print(i,e)\n",
    "    else:\n",
    "        print(\"hola\",i)"
   ]
  },
  {
   "cell_type": "code",
   "execution_count": 86,
   "metadata": {},
   "outputs": [
    {
     "data": {
      "text/plain": [
       "[('Juan', 'García'), ('Marta', 'López'), ('David', 'Pérez')]"
      ]
     },
     "execution_count": 86,
     "metadata": {},
     "output_type": "execute_result"
    }
   ],
   "source": [
    "nombres = [\"Juan\",\"Marta\",\"David\"]\n",
    "apellidos = [\"García\", \"López\",\"Pérez\"]\n",
    "\n",
    "list(zip(nombres, apellidos))"
   ]
  },
  {
   "cell_type": "code",
   "execution_count": 97,
   "metadata": {},
   "outputs": [
    {
     "data": {
      "text/plain": [
       "[('Juan', 'García'), ('Marta', 'López'), ('David', 'Pérez')]"
      ]
     },
     "execution_count": 97,
     "metadata": {},
     "output_type": "execute_result"
    }
   ],
   "source": [
    "nombres = [\"Juan\",\"Marta\",\"David\",\"Ana\"]\n",
    "apellidos = [\"García\", \"López\",\"Pérez\"]\n",
    "\n",
    "list(zip(nombres, apellidos))"
   ]
  },
  {
   "cell_type": "code",
   "execution_count": 98,
   "metadata": {},
   "outputs": [
    {
     "name": "stdout",
     "output_type": "stream",
     "text": [
      "('Juan', 'García')\n",
      "('Marta', 'López')\n",
      "('David', 'Pérez')\n"
     ]
    }
   ],
   "source": [
    "for e in zip(nombres, apellidos):\n",
    "    print(e)"
   ]
  },
  {
   "cell_type": "code",
   "execution_count": 99,
   "metadata": {},
   "outputs": [
    {
     "name": "stdout",
     "output_type": "stream",
     "text": [
      "Nombre: Juan Apellido: García\n",
      "Nombre: Juan Apellido: García\n",
      "Nombre: Marta Apellido: López\n",
      "Nombre: Marta Apellido: López\n",
      "Nombre: David Apellido: Pérez\n",
      "Nombre: David Apellido: Pérez\n"
     ]
    }
   ],
   "source": [
    "for n,a in zip(nombres, apellidos):\n",
    "    print(\"Nombre:\",n,\"Apellido:\",a)\n",
    "    print(f\"Nombre: {n} Apellido: {a}\")"
   ]
  },
  {
   "cell_type": "code",
   "execution_count": 100,
   "metadata": {},
   "outputs": [
    {
     "data": {
      "text/plain": [
       "[('Juan', 'García', 'García'),\n",
       " ('Marta', 'López', 'López'),\n",
       " ('David', 'Pérez', 'Pérez')]"
      ]
     },
     "execution_count": 100,
     "metadata": {},
     "output_type": "execute_result"
    }
   ],
   "source": [
    "list(zip(nombres, apellidos,apellidos))"
   ]
  },
  {
   "cell_type": "markdown",
   "metadata": {},
   "source": [
    "# Sets"
   ]
  },
  {
   "cell_type": "code",
   "execution_count": 102,
   "metadata": {},
   "outputs": [
    {
     "name": "stdout",
     "output_type": "stream",
     "text": [
      "[1, 2, 3]\n",
      "{1, 2, 3}\n"
     ]
    }
   ],
   "source": [
    "a = [1,2,3]\n",
    "b = set(a)\n",
    "\n",
    "print(a)\n",
    "print(b)"
   ]
  },
  {
   "cell_type": "code",
   "execution_count": 103,
   "metadata": {},
   "outputs": [
    {
     "name": "stdout",
     "output_type": "stream",
     "text": [
      "1\n",
      "2\n",
      "3\n"
     ]
    }
   ],
   "source": [
    "for e in b:\n",
    "    print(e)"
   ]
  },
  {
   "cell_type": "code",
   "execution_count": 104,
   "metadata": {},
   "outputs": [
    {
     "name": "stdout",
     "output_type": "stream",
     "text": [
      "0 1\n",
      "1 2\n",
      "2 3\n"
     ]
    }
   ],
   "source": [
    "for i,e in enumerate(b):\n",
    "    print(i,e)"
   ]
  },
  {
   "cell_type": "code",
   "execution_count": 116,
   "metadata": {},
   "outputs": [
    {
     "name": "stdout",
     "output_type": "stream",
     "text": [
      "[5, 1, 2, 3, 4, 3, 2, 1]\n",
      "{1, 2, 3, 4, 5}\n"
     ]
    }
   ],
   "source": [
    "a = [5,1,2,3,4,3,2,1]\n",
    "b = set(a)\n",
    "print(a)\n",
    "print(b)"
   ]
  },
  {
   "cell_type": "code",
   "execution_count": 113,
   "metadata": {},
   "outputs": [
    {
     "data": {
      "text/plain": [
       "{' ',\n",
       " '?',\n",
       " 'H',\n",
       " 'M',\n",
       " 'P',\n",
       " 'a',\n",
       " 'e',\n",
       " 'l',\n",
       " 'm',\n",
       " 'o',\n",
       " 'p',\n",
       " 'q',\n",
       " 's',\n",
       " 't',\n",
       " 'u',\n",
       " '¿',\n",
       " 'á'}"
      ]
     },
     "execution_count": 113,
     "metadata": {},
     "output_type": "execute_result"
    }
   ],
   "source": [
    "text = \"¿Hola que tal estás? Me llamo Pepe\"\n",
    "set(text)"
   ]
  },
  {
   "cell_type": "code",
   "execution_count": 110,
   "metadata": {},
   "outputs": [
    {
     "name": "stdout",
     "output_type": "stream",
     "text": [
      "3 2\n",
      "{'David', 'Marta'}\n"
     ]
    }
   ],
   "source": [
    "n = [\"Marta\",\"David\",\"Marta\"]\n",
    "print(len(n),len(set(n)))\n",
    "print(set(n))"
   ]
  },
  {
   "cell_type": "code",
   "execution_count": null,
   "metadata": {},
   "outputs": [],
   "source": [
    "# https://docs.python.org/3.7/library/stdtypes.html#set"
   ]
  },
  {
   "cell_type": "code",
   "execution_count": 111,
   "metadata": {},
   "outputs": [
    {
     "name": "stdout",
     "output_type": "stream",
     "text": [
      "esta marta en el set\n"
     ]
    }
   ],
   "source": [
    "q = set([\"Marta\",\"David\"])\n",
    "\n",
    "if \"Marta\" in q:\n",
    "    print(\"esta marta en el set\")\n",
    "else:\n",
    "    print(\"no esta marta\")"
   ]
  },
  {
   "cell_type": "code",
   "execution_count": 115,
   "metadata": {},
   "outputs": [
    {
     "ename": "TypeError",
     "evalue": "'set' object is not subscriptable",
     "output_type": "error",
     "traceback": [
      "\u001b[0;31m---------------------------------------------------------------------------\u001b[0m",
      "\u001b[0;31mTypeError\u001b[0m                                 Traceback (most recent call last)",
      "\u001b[0;32m<ipython-input-115-46d66570304d>\u001b[0m in \u001b[0;36m<module>\u001b[0;34m\u001b[0m\n\u001b[0;32m----> 1\u001b[0;31m \u001b[0mq\u001b[0m\u001b[0;34m[\u001b[0m\u001b[0;36m0\u001b[0m\u001b[0;34m]\u001b[0m\u001b[0;34m\u001b[0m\u001b[0;34m\u001b[0m\u001b[0m\n\u001b[0m",
      "\u001b[0;31mTypeError\u001b[0m: 'set' object is not subscriptable"
     ]
    }
   ],
   "source": [
    "q[0]"
   ]
  },
  {
   "cell_type": "code",
   "execution_count": 128,
   "metadata": {},
   "outputs": [
    {
     "data": {
      "text/plain": [
       "False"
      ]
     },
     "execution_count": 128,
     "metadata": {},
     "output_type": "execute_result"
    }
   ],
   "source": [
    "a = set([1,2,3])\n",
    "b = {2,3,4}\n",
    "b.issubset(a)"
   ]
  },
  {
   "cell_type": "code",
   "execution_count": 125,
   "metadata": {},
   "outputs": [
    {
     "data": {
      "text/plain": [
       "{1, 2, 3, 4, 5}"
      ]
     },
     "execution_count": 125,
     "metadata": {},
     "output_type": "execute_result"
    }
   ],
   "source": [
    "a = set([1,2,3,4])\n",
    "a.add(5)\n",
    "a"
   ]
  },
  {
   "cell_type": "code",
   "execution_count": 134,
   "metadata": {},
   "outputs": [
    {
     "name": "stdout",
     "output_type": "stream",
     "text": [
      "{1, 2, 3, 4, 5, 6}\n",
      "{3} {3}\n",
      "{1, 2} {4, 5, 6}\n"
     ]
    }
   ],
   "source": [
    "a = {1,2,3}\n",
    "b = {4,5,6,3}\n",
    "\n",
    "print(a.union(b))\n",
    "print(a.intersection(b),b.intersection(a))\n",
    "print(a.difference(b),b.difference(a))"
   ]
  },
  {
   "cell_type": "code",
   "execution_count": null,
   "metadata": {},
   "outputs": [],
   "source": []
  },
  {
   "cell_type": "markdown",
   "metadata": {},
   "source": [
    "# Dicts"
   ]
  },
  {
   "cell_type": "code",
   "execution_count": 136,
   "metadata": {},
   "outputs": [],
   "source": [
    "nombres = [\"Pepe\",\"Marta\",\"Ana\"]\n",
    "apellidos = [\"Garcia\",\"Lopez\",\"Perez\"]\n",
    "notas = [[5,3],[2,5,9],[3]]"
   ]
  },
  {
   "cell_type": "code",
   "execution_count": 137,
   "metadata": {},
   "outputs": [
    {
     "name": "stdout",
     "output_type": "stream",
     "text": [
      "0 Pepe Garcia [5, 3]\n",
      "1 Marta Lopez [2, 5, 9]\n",
      "2 Ana Perez [3]\n"
     ]
    }
   ],
   "source": [
    "for i, alumno in enumerate(nombres):\n",
    "    print(i, alumno, apellidos[i], notas[i])"
   ]
  },
  {
   "cell_type": "code",
   "execution_count": 140,
   "metadata": {},
   "outputs": [],
   "source": [
    "alumno = {\n",
    "    \"nombre\":\"Pepe\",\n",
    "    \"apellido\": \"Garcia\",\n",
    "    \"notas\":[5,3]\n",
    "}"
   ]
  },
  {
   "cell_type": "code",
   "execution_count": 143,
   "metadata": {},
   "outputs": [
    {
     "data": {
      "text/plain": [
       "[5, 3]"
      ]
     },
     "execution_count": 143,
     "metadata": {},
     "output_type": "execute_result"
    }
   ],
   "source": [
    "alumno[\"notas\"]"
   ]
  },
  {
   "cell_type": "code",
   "execution_count": 145,
   "metadata": {},
   "outputs": [],
   "source": [
    "alumnos = [\n",
    "    {\n",
    "        \"nombre\":\"Pepe\",\n",
    "        \"apellido\": \"Garcia\",\n",
    "        \"notas\":[5,3]\n",
    "    },\n",
    "    {\n",
    "        \"nombre\":\"Marta\",\n",
    "        \"apellido\": \"Lopez\",\n",
    "        \"notas\":[2,5,9]\n",
    "    },\n",
    "]"
   ]
  },
  {
   "cell_type": "code",
   "execution_count": 146,
   "metadata": {},
   "outputs": [
    {
     "data": {
      "text/plain": [
       "2"
      ]
     },
     "execution_count": 146,
     "metadata": {},
     "output_type": "execute_result"
    }
   ],
   "source": [
    "len(alumnos)"
   ]
  },
  {
   "cell_type": "code",
   "execution_count": 149,
   "metadata": {},
   "outputs": [
    {
     "name": "stdout",
     "output_type": "stream",
     "text": [
      "Pepe Garcia [5, 3]\n",
      "Marta Lopez [2, 5, 9]\n"
     ]
    }
   ],
   "source": [
    "for e in alumnos:\n",
    "    print(e[\"nombre\"],e[\"apellido\"],e[\"notas\"])"
   ]
  },
  {
   "cell_type": "code",
   "execution_count": 150,
   "metadata": {},
   "outputs": [
    {
     "data": {
      "text/plain": [
       "{'nombre': 'Luis', 'apellido': 'Luis'}"
      ]
     },
     "execution_count": 150,
     "metadata": {},
     "output_type": "execute_result"
    }
   ],
   "source": [
    "{\n",
    "    \"nombre\":\"Luis\",\n",
    "    \"apellido\":\"Luis\"\n",
    "}"
   ]
  },
  {
   "cell_type": "code",
   "execution_count": 151,
   "metadata": {},
   "outputs": [
    {
     "data": {
      "text/plain": [
       "{'nombre': 'Garcia'}"
      ]
     },
     "execution_count": 151,
     "metadata": {},
     "output_type": "execute_result"
    }
   ],
   "source": [
    "{\n",
    "    \"nombre\":\"Luis\",\n",
    "    \"nombre\":\"Garcia\"\n",
    "}"
   ]
  },
  {
   "cell_type": "code",
   "execution_count": 152,
   "metadata": {},
   "outputs": [],
   "source": [
    "x = {\n",
    "    \"nombre\":\"Luis\",\n",
    "    \"apellido\":\"Luis\"\n",
    "}"
   ]
  },
  {
   "cell_type": "code",
   "execution_count": 153,
   "metadata": {},
   "outputs": [
    {
     "data": {
      "text/plain": [
       "dict_keys(['nombre', 'apellido'])"
      ]
     },
     "execution_count": 153,
     "metadata": {},
     "output_type": "execute_result"
    }
   ],
   "source": [
    "x.keys()"
   ]
  },
  {
   "cell_type": "code",
   "execution_count": 154,
   "metadata": {},
   "outputs": [
    {
     "data": {
      "text/plain": [
       "dict_values(['Luis', 'Luis'])"
      ]
     },
     "execution_count": 154,
     "metadata": {},
     "output_type": "execute_result"
    }
   ],
   "source": [
    "x.values()"
   ]
  },
  {
   "cell_type": "code",
   "execution_count": 155,
   "metadata": {},
   "outputs": [
    {
     "data": {
      "text/plain": [
       "dict"
      ]
     },
     "execution_count": 155,
     "metadata": {},
     "output_type": "execute_result"
    }
   ],
   "source": [
    "type(x)"
   ]
  },
  {
   "cell_type": "code",
   "execution_count": 156,
   "metadata": {},
   "outputs": [
    {
     "data": {
      "text/plain": [
       "dict_items([('nombre', 'Luis'), ('apellido', 'Luis')])"
      ]
     },
     "execution_count": 156,
     "metadata": {},
     "output_type": "execute_result"
    }
   ],
   "source": [
    "x.items()"
   ]
  },
  {
   "cell_type": "code",
   "execution_count": 159,
   "metadata": {},
   "outputs": [],
   "source": [
    "alumnos = [\n",
    "    {\n",
    "        \"nombre\":\"Pepe\",\n",
    "        \"apellidos\": {\n",
    "            \"primero\":\"Garcia\",   \n",
    "            \"segundo\":\"Lopez\"\n",
    "        },\n",
    "        \"notas\":[5,3]\n",
    "    },\n",
    "    {\n",
    "        \"nombre\":\"Marta\",\n",
    "        \"apellidos\":{\n",
    "            \"primero\":\"Lopez\",\n",
    "            \"segundo\":\"Perez\"\n",
    "        },\n",
    "        \"notas\":[2,5,9]\n",
    "    },\n",
    "]"
   ]
  },
  {
   "cell_type": "code",
   "execution_count": 160,
   "metadata": {},
   "outputs": [
    {
     "name": "stdout",
     "output_type": "stream",
     "text": [
      "Pepe Garcia Lopez\n",
      "Marta Lopez Perez\n"
     ]
    }
   ],
   "source": [
    "for alu in alumnos:\n",
    "    print(alu[\"nombre\"], alu[\"apellidos\"][\"primero\"], alu[\"apellidos\"][\"segundo\"])"
   ]
  },
  {
   "cell_type": "markdown",
   "metadata": {},
   "source": [
    "# School System"
   ]
  },
  {
   "cell_type": "code",
   "execution_count": 5,
   "metadata": {},
   "outputs": [],
   "source": [
    "schoolSystem = {\n",
    "  'schools': [{\n",
    "      'name': 'Fake School 1',\n",
    "      'classRooms': [{\n",
    "        'teacher': {\n",
    "          'firstName': 'Marcelino',\n",
    "          'lastName': 'Padberg',\n",
    "          'age': 25\n",
    "        },\n",
    "        'students': [{\n",
    "            'firstName': 'Aliyah',\n",
    "            'lastName': 'Schulist',\n",
    "            'age': 18\n",
    "          },\n",
    "          {\n",
    "            'firstName': 'Cleveland',\n",
    "            'lastName': 'Towne',\n",
    "            'age': 28\n",
    "          }, {\n",
    "            'firstName': 'Jan',\n",
    "            'lastName': 'Quitzon',\n",
    "            'age': 18\n",
    "          }, {\n",
    "            'firstName': 'Alaina',\n",
    "            'lastName': 'Runolfsdottir',\n",
    "            'age': 18\n",
    "          },{\n",
    "            'firstName': 'Saul',\n",
    "            'lastName': 'Heathcote',\n",
    "            'age': 20\n",
    "          },\n",
    "          {\n",
    "            'firstName': 'Gerhard',\n",
    "            'lastName': 'Bergstrom',\n",
    "            'age': 23\n",
    "          }\n",
    "        ]\n",
    "      }, {\n",
    "        'teacher': {\n",
    "          'firstName': 'Edwardo',\n",
    "          'lastName': 'Schowalter',\n",
    "          'age': 28\n",
    "        },\n",
    "        'students': [{\n",
    "            'firstName': 'Manley',\n",
    "            'lastName': 'Doyle',\n",
    "            'age': 18\n",
    "          }, {\n",
    "            'firstName': 'Maximilian',\n",
    "            'lastName': 'Gleichner',\n",
    "            'age': 19\n",
    "          }, {\n",
    "            'firstName': 'Sid',\n",
    "            'lastName': 'Rohan',\n",
    "            'age': 30\n",
    "          },\n",
    "          {\n",
    "            'firstName': 'Catalina',\n",
    "            'lastName': 'Hilpert',\n",
    "            'age': 27\n",
    "          }, {\n",
    "            'firstName': 'Gerald',\n",
    "            'lastName': \"O'Keefe\",\n",
    "            'age': 26\n",
    "          }\n",
    "        ]\n",
    "      }]\n",
    "    },\n",
    "    {\n",
    "      'name': 'Fake School 2',\n",
    "      'classRooms': [{\n",
    "          'teacher': {\n",
    "            'firstName': 'Lucas',\n",
    "            'lastName': 'Schroeder',\n",
    "            'age': 29\n",
    "          },\n",
    "          'students': [{\n",
    "              'firstName': 'Giuseppe',\n",
    "              'lastName': 'Hegmann',\n",
    "              'age': 24\n",
    "            },\n",
    "            {\n",
    "              'firstName': 'Jennyfer',\n",
    "              'lastName': 'Hane',\n",
    "              'age': 19\n",
    "            }, {\n",
    "              'firstName': 'Mikayla',\n",
    "              'lastName': 'Braun',\n",
    "              'age': 23\n",
    "            }, {\n",
    "              'firstName': 'Rickie',\n",
    "              'lastName': 'White',\n",
    "              'age': 22\n",
    "            }, {\n",
    "              'firstName': 'Rose',\n",
    "              'lastName': 'Collins',\n",
    "              'age': 30\n",
    "            }\n",
    "          ]\n",
    "        },\n",
    "        {\n",
    "          'teacher': {\n",
    "            'firstName': 'Green',\n",
    "            'lastName': 'Sauer',\n",
    "            'age': 25\n",
    "          },\n",
    "          'students': [{\n",
    "              'firstName': 'Melany',\n",
    "              'lastName': 'Welch',\n",
    "              'age': 25\n",
    "            }, {\n",
    "              'firstName': 'Paxton',\n",
    "              'lastName': 'Corkery',\n",
    "              'age': 22\n",
    "            },\n",
    "            {\n",
    "              'firstName': 'Nellie',\n",
    "              'lastName': 'Hauck',\n",
    "              'age': 26\n",
    "            }, {\n",
    "              'firstName': 'Eunice',\n",
    "              'lastName': 'Hirthe',\n",
    "              'age': 26\n",
    "            }, {\n",
    "              'firstName': 'Aylin',\n",
    "              'lastName': 'Barrows',\n",
    "              'age': 26\n",
    "            }\n",
    "          ]\n",
    "        }\n",
    "      ]\n",
    "    },\n",
    "    {\n",
    "      'name': 'Fake School 3',\n",
    "      'classRooms': [{\n",
    "        'teacher': {\n",
    "          'firstName': 'Nikko',\n",
    "          'lastName': 'Crist',\n",
    "          'age': 42\n",
    "        },\n",
    "        'students': [{\n",
    "            'firstName': 'Christop',\n",
    "            'lastName': 'Hahn',\n",
    "            'age': 26\n",
    "          }, {\n",
    "            'firstName': 'Newell',\n",
    "            'lastName': 'Kemmer',\n",
    "            'age': 27\n",
    "          },\n",
    "          {\n",
    "            'firstName': 'Katheryn',\n",
    "            'lastName': 'Heller',\n",
    "            'age': 26\n",
    "          }, {\n",
    "            'firstName': 'Saul',\n",
    "            'lastName': 'Heathcote',\n",
    "            'age': 20\n",
    "          },\n",
    "          {\n",
    "            'firstName': 'Maudie',\n",
    "            'lastName': 'Haley',\n",
    "            'age': 30\n",
    "          }\n",
    "        ]\n",
    "      }, {\n",
    "        'teacher': {\n",
    "          'firstName': 'Nathanael',\n",
    "          'lastName': 'Hansson',\n",
    "          'age': 50\n",
    "        },\n",
    "        'students': [{\n",
    "            'firstName': 'Jensen',\n",
    "            'lastName': 'Reichel',\n",
    "            'age': 21\n",
    "          }, {\n",
    "            'firstName': 'Lois',\n",
    "            'lastName': 'Kulas',\n",
    "            'age': 28\n",
    "          },\n",
    "          {\n",
    "            'firstName': 'Caterina',\n",
    "            'lastName': 'Wolff',\n",
    "            'age': 28\n",
    "          }, {\n",
    "            'firstName': 'Dahlia',\n",
    "            'lastName': 'Collier',\n",
    "            'age': 24\n",
    "          },\n",
    "          {\n",
    "            'firstName': 'Linwood',\n",
    "            'lastName': 'Langosh',\n",
    "            'age': 26\n",
    "          }\n",
    "        ]\n",
    "      }]\n",
    "    }\n",
    "  ]\n",
    "}"
   ]
  },
  {
   "cell_type": "code",
   "execution_count": 162,
   "metadata": {},
   "outputs": [],
   "source": [
    "# 1 - Add a student with the name of Lucille D. Lozano to Fake School 2, \n",
    "#     in the first classroom.\n",
    "newstudent = {\n",
    "    \"firstName\": \"Lucille D.\",\n",
    "    \"lastName\": \"Lozano\",\n",
    "    \"age\": \"NA\"\n",
    "}\n",
    "schoolSystem['schools'][1]['classRooms'][0]['students'].append(newstudent)\n"
   ]
  },
  {
   "cell_type": "code",
   "execution_count": 163,
   "metadata": {},
   "outputs": [
    {
     "name": "stdout",
     "output_type": "stream",
     "text": [
      "{'name': 'Fake School 3', 'classRooms': [{'teacher': {'firstName': 'Nikko', 'lastName': 'Crist', 'age': 42}, 'students': [{'firstName': 'Christop', 'lastName': 'Hahn', 'age': 26}, {'firstName': 'Newell', 'lastName': 'Kemmer', 'age': 27}, {'firstName': 'Katheryn', 'lastName': 'Heller', 'age': 26}, {'firstName': 'Saul', 'lastName': 'Heathcote', 'age': 20}, {'firstName': 'Maudie', 'lastName': 'Haley', 'age': 30}]}, {'teacher': {'firstName': 'Nathanael', 'lastName': 'Hansson', 'age': 50}, 'students': [{'firstName': 'Jensen', 'lastName': 'Reichel', 'age': 21}, {'firstName': 'Lois', 'lastName': 'Kulas', 'age': 28}, {'firstName': 'Caterina', 'lastName': 'Wolff', 'age': 28}, {'firstName': 'Dahlia', 'lastName': 'Collier', 'age': 24}, {'firstName': 'Linwood', 'lastName': 'Langosh', 'age': 26}]}]}\n"
     ]
    }
   ],
   "source": [
    "# 2 - Retrieve the \"Fake School 3\" object\n",
    "for e in schoolSystem['schools']:\n",
    "    if e['name']=='Fake School 3':\n",
    "        print(e)\n"
   ]
  },
  {
   "cell_type": "code",
   "execution_count": 164,
   "metadata": {},
   "outputs": [
    {
     "name": "stdout",
     "output_type": "stream",
     "text": [
      "{'firstName': 'Nathanael', 'lastName': 'Hansson', 'age': 50}\n"
     ]
    }
   ],
   "source": [
    "# 3 - Retrieve the teacher with the first name of \"Nathanael\"\n",
    "for school in schoolSystem[\"schools\"]:\n",
    "    for classRooms in school[\"classRooms\"]:\n",
    "        name = classRooms[\"teacher\"][\"firstName\"]\n",
    "        if name ==\"Nathanael\":\n",
    "            print(classRooms[\"teacher\"])\n"
   ]
  },
  {
   "cell_type": "code",
   "execution_count": 7,
   "metadata": {},
   "outputs": [
    {
     "name": "stdout",
     "output_type": "stream",
     "text": [
      "Fake School 1 - Saul\n"
     ]
    }
   ],
   "source": [
    "# 4 - Retrieve the student with the first name of \"Saul\"\n",
    "def searchName(schoolSystem,name):\n",
    "    for school in schoolSystem[\"schools\"]:\n",
    "        for classRooms in school[\"classRooms\"]:\n",
    "            for student in classRooms[\"students\"]:\n",
    "                if student[\"firstName\"]==name:\n",
    "                    print(school[\"name\"],\"-\", student[\"firstName\"])\n",
    "                    return\n",
    "\n",
    "searchName(schoolSystem,\"Saul\")"
   ]
  },
  {
   "cell_type": "code",
   "execution_count": null,
   "metadata": {},
   "outputs": [],
   "source": []
  },
  {
   "cell_type": "code",
   "execution_count": null,
   "metadata": {},
   "outputs": [],
   "source": []
  }
 ],
 "metadata": {
  "kernelspec": {
   "display_name": "Python 3",
   "language": "python",
   "name": "python3"
  },
  "language_info": {
   "codemirror_mode": {
    "name": "ipython",
    "version": 3
   },
   "file_extension": ".py",
   "mimetype": "text/x-python",
   "name": "python",
   "nbconvert_exporter": "python",
   "pygments_lexer": "ipython3",
   "version": "3.7.5"
  }
 },
 "nbformat": 4,
 "nbformat_minor": 2
}
