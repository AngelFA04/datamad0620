{
 "cells": [
  {
   "cell_type": "markdown",
   "metadata": {},
   "source": [
    "# Functional programming (mini intro)"
   ]
  },
  {
   "cell_type": "code",
   "execution_count": 22,
   "metadata": {},
   "outputs": [],
   "source": [
    "smartphone = {\n",
    "    \"modelo\":\"iPhone\",\n",
    "    \"ram\":\"3G\",\n",
    "    \"os\":\"iOS\",\n",
    "    \"size\":[10,15,4],\n",
    "    \"battery\":{\n",
    "        \"type\":\"LiIon\",\n",
    "        \"actualCharge\":50\n",
    "    },\n",
    "    \"apps\":[\n",
    "        {\n",
    "            \"name\":\"Whatsapp\",\n",
    "            \"version\":3,\n",
    "            \"notif\": 4\n",
    "        },\n",
    "        {\n",
    "            \"name\":\"Instagram\",\n",
    "            \"version\":10,\n",
    "            \"notif\": 2\n",
    "        },\n",
    "        {\n",
    "            \"name\":\"Mail\",\n",
    "            \"version\":8,\n",
    "            \"notif\": 0\n",
    "        }\n",
    "    ]\n",
    "}"
   ]
  },
  {
   "cell_type": "code",
   "execution_count": 12,
   "metadata": {},
   "outputs": [
    {
     "data": {
      "text/plain": [
       "[{'name': 'Whatsapp', 'version': 3, 'notif': 4},\n",
       " {'name': 'Instagram', 'version': 10, 'notif': 2},\n",
       " {'name': 'Mail', 'version': 8, 'notif': 0}]"
      ]
     },
     "execution_count": 12,
     "metadata": {},
     "output_type": "execute_result"
    }
   ],
   "source": [
    "smartphone[\"apps\"]"
   ]
  },
  {
   "cell_type": "code",
   "execution_count": 13,
   "metadata": {},
   "outputs": [
    {
     "data": {
      "text/plain": [
       "[4, 2, 0]"
      ]
     },
     "execution_count": 13,
     "metadata": {},
     "output_type": "execute_result"
    }
   ],
   "source": [
    "[app[\"notif\"] for app in smartphone[\"apps\"]]"
   ]
  },
  {
   "cell_type": "code",
   "execution_count": null,
   "metadata": {},
   "outputs": [],
   "source": []
  },
  {
   "cell_type": "code",
   "execution_count": 35,
   "metadata": {},
   "outputs": [
    {
     "name": "stdout",
     "output_type": "stream",
     "text": [
      "4571547600 4571436208\n",
      "[13, 20, 18]\n",
      "[14, 21, 19]\n"
     ]
    }
   ],
   "source": [
    "import pprint\n",
    "import copy\n",
    "\n",
    "\n",
    "def showVersions(phone):\n",
    "    return [app[\"version\"] for app in phone[\"apps\"]]\n",
    "\n",
    "def actualiza(phone):\n",
    "    for app in phone[\"apps\"]:\n",
    "        app[\"version\"] += 1\n",
    "    return phone\n",
    "    \n",
    "smartphone_copia = copy.deepcopy(smartphone)\n",
    "print(id(smartphone_copia), id(smartphone))\n",
    "smartphone_actualizado = actualiza(smartphone_copia)\n",
    "\n",
    "pprint.pprint(showVersions(smartphone))\n",
    "pprint.pprint(showVersions(smartphone_actualizado))"
   ]
  },
  {
   "cell_type": "code",
   "execution_count": 39,
   "metadata": {},
   "outputs": [
    {
     "name": "stdout",
     "output_type": "stream",
     "text": [
      "4570932240 4571436208\n",
      "4571470416 4570727120\n"
     ]
    }
   ],
   "source": [
    "smartphone_copia = copy.deepcopy(smartphone)\n",
    "print(id(smartphone_copia), id(smartphone))\n",
    "print(id(smartphone_copia[\"apps\"]), id(smartphone[\"apps\"]))"
   ]
  },
  {
   "cell_type": "code",
   "execution_count": 38,
   "metadata": {},
   "outputs": [
    {
     "name": "stdout",
     "output_type": "stream",
     "text": [
      "4571546160 4571436208\n",
      "4570727120 4570727120\n"
     ]
    }
   ],
   "source": [
    "smartphone_copia = {**smartphone}\n",
    "print(id(smartphone_copia), id(smartphone))\n",
    "print(id(smartphone_copia[\"apps\"]), id(smartphone[\"apps\"]))"
   ]
  },
  {
   "cell_type": "code",
   "execution_count": 40,
   "metadata": {},
   "outputs": [
    {
     "name": "stdout",
     "output_type": "stream",
     "text": [
      "{'apps': [{'name': 'Whatsapp', 'notif': 4, 'version': 13},\n",
      "          {'name': 'Instagram', 'notif': 2, 'version': 20},\n",
      "          {'name': 'Mail', 'notif': 0, 'version': 18}],\n",
      " 'battery': {'actualCharge': 50, 'type': 'LiIon'},\n",
      " 'modelo': 'iPhone',\n",
      " 'os': 'iOS',\n",
      " 'ram': '3G',\n",
      " 'size': [10, 15, 4]}\n"
     ]
    }
   ],
   "source": [
    "pprint.pprint(smartphone)"
   ]
  },
  {
   "cell_type": "code",
   "execution_count": 42,
   "metadata": {},
   "outputs": [
    {
     "data": {
      "text/plain": [
       "{'modelo': 'iPhone',\n",
       " 'ram': '3G',\n",
       " 'os': 'iOS',\n",
       " 'size': [10, 15, 4],\n",
       " 'battery': {'type': 'LiIon', 'actualCharge': 100},\n",
       " 'apps': [{'name': 'Whatsapp', 'version': 13, 'notif': 4},\n",
       "  {'name': 'Instagram', 'version': 20, 'notif': 2},\n",
       "  {'name': 'Mail', 'version': 18, 'notif': 0}]}"
      ]
     },
     "execution_count": 42,
     "metadata": {},
     "output_type": "execute_result"
    }
   ],
   "source": [
    "def carga(phone):\n",
    "    phone[\"battery\"][\"actualCharge\"] = 100\n",
    "    \n",
    "carga(smartphone)\n",
    "smartphone"
   ]
  },
  {
   "cell_type": "raw",
   "metadata": {},
   "source": []
  },
  {
   "cell_type": "code",
   "execution_count": 44,
   "metadata": {},
   "outputs": [
    {
     "data": {
      "text/plain": [
       "'1hola2hola3'"
      ]
     },
     "execution_count": 44,
     "metadata": {},
     "output_type": "execute_result"
    }
   ],
   "source": [
    "\"hola\".join([\"1\",\"2\",\"3\"])"
   ]
  },
  {
   "cell_type": "markdown",
   "metadata": {},
   "source": [
    "  "
   ]
  }
 ],
 "metadata": {
  "kernelspec": {
   "display_name": "Python 3",
   "language": "python",
   "name": "python3"
  },
  "language_info": {
   "codemirror_mode": {
    "name": "ipython",
    "version": 3
   },
   "file_extension": ".py",
   "mimetype": "text/x-python",
   "name": "python",
   "nbconvert_exporter": "python",
   "pygments_lexer": "ipython3",
   "version": "3.7.5"
  }
 },
 "nbformat": 4,
 "nbformat_minor": 2
}
