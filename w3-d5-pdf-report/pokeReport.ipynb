{
 "cells": [
  {
   "cell_type": "code",
   "execution_count": 1,
   "metadata": {},
   "outputs": [],
   "source": [
    "# Modulo para coger informacion de la pokeApi\n",
    "from api.pokedex import pokedex\n",
    "# Librerias\n",
    "import pandas as pd\n",
    "import os\n",
    "# Markdown2 convierte una string con codigo markdown a una string HTML\n",
    "# !pip3 install markdown2\n",
    "from markdown2 import markdown\n",
    "# WeasyPrint convierte HTMLs con CSS a PDF\n",
    "# !pip3 install WeasyPrint\n",
    "from weasyprint import HTML,CSS"
   ]
  },
  {
   "cell_type": "code",
   "execution_count": 2,
   "metadata": {},
   "outputs": [],
   "source": [
    "# Elige el nombre o numero del pokemon que quieras para recoger la informacion de la pokeApi\n",
    "poke_data = pokedex(25)"
   ]
  },
  {
   "cell_type": "markdown",
   "metadata": {},
   "source": [
    "Abrimos el template markdown que escribimos previamente, poniendo marcadores `{variable}` donde queremos substituir informacion. Eso sirvirá para que podamos hacer un `.format` con esos mismos nombres como keyword arguments para substituirles en el local correcto."
   ]
  },
  {
   "cell_type": "code",
   "execution_count": 3,
   "metadata": {},
   "outputs": [],
   "source": [
    "with open(\"templates/pokereport.md\", \"r\") as file:\n",
    "    template = file.read()"
   ]
  },
  {
   "cell_type": "markdown",
   "metadata": {},
   "source": [
    "Empezamos a generar un dicionario con los valores que queremos substituir."
   ]
  },
  {
   "cell_type": "code",
   "execution_count": 4,
   "metadata": {},
   "outputs": [],
   "source": [
    "filler = {}\n",
    "# {pokeball_image}\n",
    "pokeball = \"pokeball\" if poke_data[\"capture_rate\"] > 10 else \"masterball\"\n",
    "filler[\"pokeball_image\"] = f'![pokeball](images/balls/{pokeball}.png \"Pokeball\")'\n",
    "# {name}\n",
    "filler[\"name\"] = poke_data[\"evolution_chain\"][poke_data[\"id\"]][\"name\"].title()\n",
    "# {flavor_text}\n",
    "filler[\"flavor_text\"] = poke_data[\"flavor_text\"]"
   ]
  },
  {
   "cell_type": "code",
   "execution_count": 5,
   "metadata": {},
   "outputs": [],
   "source": [
    "# {stats_table}\n",
    "stats_table = pd.DataFrame.from_dict({pokemon.get(\"name\"):pokemon.get(\"stats\") for pokemon in poke_data[\"evolution_chain\"].values()})\n",
    "filler[\"stats_table\"] = stats_table.to_markdown()"
   ]
  },
  {
   "cell_type": "code",
   "execution_count": 6,
   "metadata": {},
   "outputs": [],
   "source": [
    "# {type_table}\n",
    "poke_types = list(poke_data[\"evolution_chain\"][poke_data[\"id\"]][\"types\"])\n",
    "if len(poke_types)<2:\n",
    "    poke_types.append('')\n",
    "sep = [\":---:\"]*len(poke_types)\n",
    "type_images = [f' ![type](images/types/{typ}.png \"{typ}\") ' if typ else '' for typ in poke_types]\n",
    "type_table = \"\\n\".join([\"|\".join(line) for line in [poke_types,sep,type_images]])\n",
    "filler[\"type_table\"] = type_table"
   ]
  },
  {
   "cell_type": "code",
   "execution_count": 7,
   "metadata": {},
   "outputs": [],
   "source": [
    "# {evolution_table}\n",
    "sprites = [f' ![sprite]({url} \"sprite\")' for url in [poke[\"sprite\"] for poke in poke_data[\"evolution_chain\"].values()]]\n",
    "poke_ids = [str(poke_id) for poke_id in poke_data[\"evolution_chain\"].keys()]\n",
    "if len(sprites)<2:\n",
    "    sprites.append('')\n",
    "    poke_ids.append('')\n",
    "sep = [\":---:\"]*len(sprites)\n",
    "evolution_table = \"\\n\".join([\"|\".join(line) for line in [sprites,sep,poke_ids]])\n",
    "filler[\"evolution_table\"] = evolution_table"
   ]
  },
  {
   "cell_type": "markdown",
   "metadata": {},
   "source": [
    "Cuando todo está listo, substituimos esas variables en el template."
   ]
  },
  {
   "cell_type": "code",
   "execution_count": 8,
   "metadata": {},
   "outputs": [],
   "source": [
    "output = template.format(**filler)"
   ]
  },
  {
   "cell_type": "markdown",
   "metadata": {},
   "source": [
    "Finalmente, podemos generar el pdf a partir de el HTML con el CSS para darle estilo."
   ]
  },
  {
   "cell_type": "code",
   "execution_count": 9,
   "metadata": {},
   "outputs": [],
   "source": [
    "html = markdown(output, extras=[\"tables\"])\n",
    "# El argumento `base_url` es para que el interprete de HTML pueda coger bien los ficheros locales, como por \n",
    "# ejemplo las imagenes en la carpeta images. Usamos `os.getcwd()` para que el `prefijo` de los paths sea el\n",
    "# directorio de ese mismo fichero, que sumado a los paths relativos indicado en las imagenes se sumen en la\n",
    "# ruta que apunta efectivamente a esas imagenes.\n",
    "html = HTML(string=html, base_url=os.getcwd())\n",
    "# El fichero CSS, la hoja de estilo, es el fichero que utilizamos para pasar determinadas reglas de formateacion\n",
    "# al HTML, el tipo o color de las letras, su tamaño, las dimensiones o posición de las imagenes, etc.\n",
    "# Ambos strings que contienen el codigo HTML o CSS deben ser convertidos a objetos de WeasyPrint.\n",
    "with open(\"templates/pokereport.css\", \"r\") as file:\n",
    "    css = file.read()\n",
    "css = CSS(string=css)\n",
    "html.write_pdf(f\"output/{filler['name'].lower()}.pdf\", stylesheets=[css])"
   ]
  },
  {
   "cell_type": "markdown",
   "metadata": {},
   "source": [
    "# RESUMEN\n",
    "\n",
    "* Crear un fichero en Markdown similar a como quiera que sea tu reporte.\n",
    "* Substituir todas las partes variables del reporte por marcadores `{name}`.\n",
    "* Crear un dicionário con las keys equivalentes a los marcadores `{name}` del template, asignando a los values, los valores que quieres inserir en esa parte de el reporte.\n",
    "* Usar el `.format(**filler)` para hacer la substituicion de los marcadores por los valores, generando así una string de codigo Markdown con el documento que deseamos.\n",
    "* Con `markdown2` y `WeasyPrint`, procesar y generar el pdf en la carpeta `outputs`."
   ]
  }
 ],
 "metadata": {
  "kernelspec": {
   "display_name": "Python 3",
   "language": "python",
   "name": "python3"
  },
  "language_info": {
   "codemirror_mode": {
    "name": "ipython",
    "version": 3
   },
   "file_extension": ".py",
   "mimetype": "text/x-python",
   "name": "python",
   "nbconvert_exporter": "python",
   "pygments_lexer": "ipython3",
   "version": "3.8.2"
  }
 },
 "nbformat": 4,
 "nbformat_minor": 4
}
